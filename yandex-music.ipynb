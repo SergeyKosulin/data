{
 "cells": [
  {
   "cell_type": "markdown",
   "metadata": {
    "id": "E0vqbgi9ay0H"
   },
   "source": [
    "# Яндекс.Музыка"
   ]
  },
  {
   "cell_type": "markdown",
   "metadata": {
    "id": "VUC88oWjTJw2"
   },
   "source": [
    "\n",
    "\n",
    "**Цель исследования** — проверить три гипотезы:\n",
    "1. Активность пользователей зависит от дня недели. Причём в Москве и Петербурге это проявляется по-разному.\n",
    "2. В понедельник утром в Москве преобладают одни жанры, а в Петербурге — другие. Так же и вечером пятницы преобладают разные жанры — в зависимости от города. \n",
    "3. Москва и Петербург предпочитают разные жанры музыки. В Москве чаще слушают поп-музыку, в Петербурге — русский рэп.\n",
    "\n",
    "**Ход исследования**\n",
    "\n",
    "Данные о поведении пользователей в файле `yandex_music_project.csv`. О качестве данных ничего не известно. Поэтому перед проверкой гипотез понадобится обзор данных. \n",
    " \n",
    "Таким образом, исследование пройдёт в три этапа:\n",
    " 1. Обзор данных.\n",
    " 2. Предобработка данных.\n",
    " 3. Проверка гипотез.\n",
    "\n"
   ]
  },
  {
   "cell_type": "markdown",
   "metadata": {
    "id": "Ml1hmfXC_Zcs"
   },
   "source": [
    "## Обзор данных\n",
    "\n",
    "\n",
    "\n",
    "\n"
   ]
  },
  {
   "cell_type": "code",
   "execution_count": 58,
   "metadata": {
    "id": "AXN7PHPN_Zcs"
   },
   "outputs": [],
   "source": [
    "import pandas as pd"
   ]
  },
  {
   "cell_type": "code",
   "execution_count": 59,
   "metadata": {
    "id": "fFVu7vqh_Zct"
   },
   "outputs": [],
   "source": [
    "df = pd.read_csv('C:/Users/днс/OneDrive/Документы/GitHub/data/yandex_music_project.csv')"
   ]
  },
  {
   "cell_type": "code",
   "execution_count": 60,
   "metadata": {
    "id": "oWTVX3gW_Zct"
   },
   "outputs": [
    {
     "data": {
      "text/html": [
       "<div>\n",
       "<style scoped>\n",
       "    .dataframe tbody tr th:only-of-type {\n",
       "        vertical-align: middle;\n",
       "    }\n",
       "\n",
       "    .dataframe tbody tr th {\n",
       "        vertical-align: top;\n",
       "    }\n",
       "\n",
       "    .dataframe thead th {\n",
       "        text-align: right;\n",
       "    }\n",
       "</style>\n",
       "<table border=\"1\" class=\"dataframe\">\n",
       "  <thead>\n",
       "    <tr style=\"text-align: right;\">\n",
       "      <th></th>\n",
       "      <th>userID</th>\n",
       "      <th>Track</th>\n",
       "      <th>artist</th>\n",
       "      <th>genre</th>\n",
       "      <th>City</th>\n",
       "      <th>time</th>\n",
       "      <th>Day</th>\n",
       "    </tr>\n",
       "  </thead>\n",
       "  <tbody>\n",
       "    <tr>\n",
       "      <th>0</th>\n",
       "      <td>FFB692EC</td>\n",
       "      <td>Kamigata To Boots</td>\n",
       "      <td>The Mass Missile</td>\n",
       "      <td>rock</td>\n",
       "      <td>Saint-Petersburg</td>\n",
       "      <td>20:28:33</td>\n",
       "      <td>Wednesday</td>\n",
       "    </tr>\n",
       "    <tr>\n",
       "      <th>1</th>\n",
       "      <td>55204538</td>\n",
       "      <td>Delayed Because of Accident</td>\n",
       "      <td>Andreas Rönnberg</td>\n",
       "      <td>rock</td>\n",
       "      <td>Moscow</td>\n",
       "      <td>14:07:09</td>\n",
       "      <td>Friday</td>\n",
       "    </tr>\n",
       "    <tr>\n",
       "      <th>2</th>\n",
       "      <td>20EC38</td>\n",
       "      <td>Funiculì funiculà</td>\n",
       "      <td>Mario Lanza</td>\n",
       "      <td>pop</td>\n",
       "      <td>Saint-Petersburg</td>\n",
       "      <td>20:58:07</td>\n",
       "      <td>Wednesday</td>\n",
       "    </tr>\n",
       "    <tr>\n",
       "      <th>3</th>\n",
       "      <td>A3DD03C9</td>\n",
       "      <td>Dragons in the Sunset</td>\n",
       "      <td>Fire + Ice</td>\n",
       "      <td>folk</td>\n",
       "      <td>Saint-Petersburg</td>\n",
       "      <td>08:37:09</td>\n",
       "      <td>Monday</td>\n",
       "    </tr>\n",
       "    <tr>\n",
       "      <th>4</th>\n",
       "      <td>E2DC1FAE</td>\n",
       "      <td>Soul People</td>\n",
       "      <td>Space Echo</td>\n",
       "      <td>dance</td>\n",
       "      <td>Moscow</td>\n",
       "      <td>08:34:34</td>\n",
       "      <td>Monday</td>\n",
       "    </tr>\n",
       "    <tr>\n",
       "      <th>5</th>\n",
       "      <td>842029A1</td>\n",
       "      <td>Преданная</td>\n",
       "      <td>IMPERVTOR</td>\n",
       "      <td>rusrap</td>\n",
       "      <td>Saint-Petersburg</td>\n",
       "      <td>13:09:41</td>\n",
       "      <td>Friday</td>\n",
       "    </tr>\n",
       "    <tr>\n",
       "      <th>6</th>\n",
       "      <td>4CB90AA5</td>\n",
       "      <td>True</td>\n",
       "      <td>Roman Messer</td>\n",
       "      <td>dance</td>\n",
       "      <td>Moscow</td>\n",
       "      <td>13:00:07</td>\n",
       "      <td>Wednesday</td>\n",
       "    </tr>\n",
       "    <tr>\n",
       "      <th>7</th>\n",
       "      <td>F03E1C1F</td>\n",
       "      <td>Feeling This Way</td>\n",
       "      <td>Polina Griffith</td>\n",
       "      <td>dance</td>\n",
       "      <td>Moscow</td>\n",
       "      <td>20:47:49</td>\n",
       "      <td>Wednesday</td>\n",
       "    </tr>\n",
       "    <tr>\n",
       "      <th>8</th>\n",
       "      <td>8FA1D3BE</td>\n",
       "      <td>И вновь продолжается бой</td>\n",
       "      <td>NaN</td>\n",
       "      <td>ruspop</td>\n",
       "      <td>Moscow</td>\n",
       "      <td>09:17:40</td>\n",
       "      <td>Friday</td>\n",
       "    </tr>\n",
       "    <tr>\n",
       "      <th>9</th>\n",
       "      <td>E772D5C0</td>\n",
       "      <td>Pessimist</td>\n",
       "      <td>NaN</td>\n",
       "      <td>dance</td>\n",
       "      <td>Saint-Petersburg</td>\n",
       "      <td>21:20:49</td>\n",
       "      <td>Wednesday</td>\n",
       "    </tr>\n",
       "  </tbody>\n",
       "</table>\n",
       "</div>"
      ],
      "text/plain": [
       "     userID                        Track            artist   genre  \\\n",
       "0  FFB692EC            Kamigata To Boots  The Mass Missile    rock   \n",
       "1  55204538  Delayed Because of Accident  Andreas Rönnberg    rock   \n",
       "2    20EC38            Funiculì funiculà       Mario Lanza     pop   \n",
       "3  A3DD03C9        Dragons in the Sunset        Fire + Ice    folk   \n",
       "4  E2DC1FAE                  Soul People        Space Echo   dance   \n",
       "5  842029A1                    Преданная         IMPERVTOR  rusrap   \n",
       "6  4CB90AA5                         True      Roman Messer   dance   \n",
       "7  F03E1C1F             Feeling This Way   Polina Griffith   dance   \n",
       "8  8FA1D3BE     И вновь продолжается бой               NaN  ruspop   \n",
       "9  E772D5C0                    Pessimist               NaN   dance   \n",
       "\n",
       "             City        time        Day  \n",
       "0  Saint-Petersburg  20:28:33  Wednesday  \n",
       "1            Moscow  14:07:09     Friday  \n",
       "2  Saint-Petersburg  20:58:07  Wednesday  \n",
       "3  Saint-Petersburg  08:37:09     Monday  \n",
       "4            Moscow  08:34:34     Monday  \n",
       "5  Saint-Petersburg  13:09:41     Friday  \n",
       "6            Moscow  13:00:07  Wednesday  \n",
       "7            Moscow  20:47:49  Wednesday  \n",
       "8            Moscow  09:17:40     Friday  \n",
       "9  Saint-Petersburg  21:20:49  Wednesday  "
      ]
     },
     "execution_count": 60,
     "metadata": {},
     "output_type": "execute_result"
    }
   ],
   "source": [
    "df.head(10)\n",
    "# 10 строк датасета"
   ]
  },
  {
   "cell_type": "code",
   "execution_count": 61,
   "metadata": {
    "id": "DSf2kIb-_Zct"
   },
   "outputs": [
    {
     "name": "stdout",
     "output_type": "stream",
     "text": [
      "<class 'pandas.core.frame.DataFrame'>\n",
      "RangeIndex: 65079 entries, 0 to 65078\n",
      "Data columns (total 7 columns):\n",
      " #   Column    Non-Null Count  Dtype \n",
      "---  ------    --------------  ----- \n",
      " 0     userID  65079 non-null  object\n",
      " 1   Track     63848 non-null  object\n",
      " 2   artist    57876 non-null  object\n",
      " 3   genre     63881 non-null  object\n",
      " 4     City    65079 non-null  object\n",
      " 5   time      65079 non-null  object\n",
      " 6   Day       65079 non-null  object\n",
      "dtypes: object(7)\n",
      "memory usage: 3.5+ MB\n"
     ]
    }
   ],
   "source": [
    "df.info()\n",
    "# общая информация"
   ]
  },
  {
   "cell_type": "markdown",
   "metadata": {
    "id": "TaQ2Iwbr_Zct"
   },
   "source": [
    "Итак, в таблице семь столбцов. Тип данных во всех столбцах — `object`.\n",
    "\n",
    "Согласно документации к данным:\n",
    "* `userID` — идентификатор пользователя;\n",
    "* `Track` — название трека;  \n",
    "* `artist` — имя исполнителя;\n",
    "* `genre` — название жанра;\n",
    "* `City` — город пользователя;\n",
    "* `time` — время начала прослушивания;\n",
    "* `Day` — день недели.\n",
    "\n",
    "Количество значений в столбцах различается. Значит, в данных есть пропущенные значения."
   ]
  },
  {
   "cell_type": "markdown",
   "metadata": {
    "id": "MCB6-dXG_Zct"
   },
   "source": [
    "**Выводы**\n",
    "\n",
    "В каждой строке таблицы — данные о прослушанном треке. Часть колонок описывает саму композицию: название, исполнителя и жанр. Остальные данные рассказывают о пользователе: из какого он города, когда он слушал музыку. \n",
    "\n",
    "Предварительно можно утверждать, что, данных достаточно для проверки гипотез. Но встречаются пропуски в данных, а в названиях колонок — расхождения с хорошим стилем."
   ]
  },
  {
   "cell_type": "markdown",
   "metadata": {
    "id": "SjYF6Ub9_Zct"
   },
   "source": [
    "## Предобработка данных\n"
   ]
  },
  {
   "cell_type": "markdown",
   "metadata": {
    "id": "dIaKXr29_Zct"
   },
   "source": [
    "### Стиль заголовков\n"
   ]
  },
  {
   "cell_type": "code",
   "execution_count": 62,
   "metadata": {
    "id": "oKOTdF_Q_Zct"
   },
   "outputs": [
    {
     "name": "stdout",
     "output_type": "stream",
     "text": [
      "Index(['  userID', 'Track', 'artist', 'genre', '  City  ', 'time', 'Day'], dtype='object')\n"
     ]
    }
   ],
   "source": [
    "print(df.columns)\n",
    "# перечень названий столбцов таблицы df"
   ]
  },
  {
   "cell_type": "code",
   "execution_count": 63,
   "metadata": {
    "id": "ISlFqs5y_Zct"
   },
   "outputs": [],
   "source": [
    "df = df.rename(columns={'  userID':'user_id', 'Track':'track', '  City  ':'city', 'Day':'day'})\n",
    "# переименование столбцов"
   ]
  },
  {
   "cell_type": "code",
   "execution_count": 64,
   "metadata": {
    "id": "d4NOAmTW_Zct"
   },
   "outputs": [
    {
     "name": "stdout",
     "output_type": "stream",
     "text": [
      "Index(['user_id', 'track', 'artist', 'genre', 'city', 'time', 'day'], dtype='object')\n"
     ]
    }
   ],
   "source": [
    "print(df.columns)\n",
    "# проверка результатов - перечень названий столбцов"
   ]
  },
  {
   "cell_type": "markdown",
   "metadata": {
    "id": "5ISfbcfY_Zct"
   },
   "source": [
    "### Пропуски значений\n"
   ]
  },
  {
   "cell_type": "code",
   "execution_count": 65,
   "metadata": {
    "id": "RskX29qr_Zct"
   },
   "outputs": [
    {
     "name": "stdout",
     "output_type": "stream",
     "text": [
      "user_id       0\n",
      "track      1231\n",
      "artist     7203\n",
      "genre      1198\n",
      "city          0\n",
      "time          0\n",
      "day           0\n",
      "dtype: int64\n"
     ]
    }
   ],
   "source": [
    "print(df.isna().sum()) \n",
    "# подсчёт пропусков"
   ]
  },
  {
   "cell_type": "code",
   "execution_count": 66,
   "metadata": {
    "id": "KplB5qWs_Zct"
   },
   "outputs": [],
   "source": [
    "columns_to_replace = ['track', 'artist', 'genre']\n",
    "for table in columns_to_replace:\n",
    "    df[table] = df[table].fillna('unknown')\n",
    "# перебор названий столбцов в цикле и замена пропущенных значений на 'unknown'"
   ]
  },
  {
   "cell_type": "code",
   "execution_count": 67,
   "metadata": {
    "id": "Tq4nYRX4_Zct"
   },
   "outputs": [
    {
     "name": "stdout",
     "output_type": "stream",
     "text": [
      "user_id    0\n",
      "track      0\n",
      "artist     0\n",
      "genre      0\n",
      "city       0\n",
      "time       0\n",
      "day        0\n",
      "dtype: int64\n"
     ]
    }
   ],
   "source": [
    "print(df.isna().sum())\n",
    "# подсчёт пропусков"
   ]
  },
  {
   "cell_type": "markdown",
   "metadata": {
    "id": "BWKRtBJ3_Zct"
   },
   "source": [
    "### Дубликаты\n"
   ]
  },
  {
   "cell_type": "code",
   "execution_count": 68,
   "metadata": {
    "id": "36eES_S0_Zct",
    "scrolled": true
   },
   "outputs": [
    {
     "name": "stdout",
     "output_type": "stream",
     "text": [
      "3826\n"
     ]
    }
   ],
   "source": [
    "print(df.duplicated().sum())\n",
    "# подсчёт явных дубликатов"
   ]
  },
  {
   "cell_type": "code",
   "execution_count": 69,
   "metadata": {},
   "outputs": [
    {
     "data": {
      "text/plain": [
       "(65079, 7)"
      ]
     },
     "execution_count": 69,
     "metadata": {},
     "output_type": "execute_result"
    }
   ],
   "source": [
    "df.shape\n",
    "# размер датасета"
   ]
  },
  {
   "cell_type": "code",
   "execution_count": 70,
   "metadata": {
    "id": "exFHq6tt_Zct",
    "scrolled": true
   },
   "outputs": [
    {
     "name": "stdout",
     "output_type": "stream",
     "text": [
      "<class 'pandas.core.frame.DataFrame'>\n",
      "RangeIndex: 61253 entries, 0 to 61252\n",
      "Data columns (total 7 columns):\n",
      " #   Column   Non-Null Count  Dtype \n",
      "---  ------   --------------  ----- \n",
      " 0   user_id  61253 non-null  object\n",
      " 1   track    61253 non-null  object\n",
      " 2   artist   61253 non-null  object\n",
      " 3   genre    61253 non-null  object\n",
      " 4   city     61253 non-null  object\n",
      " 5   time     61253 non-null  object\n",
      " 6   day      61253 non-null  object\n",
      "dtypes: object(7)\n",
      "memory usage: 3.3+ MB\n"
     ]
    }
   ],
   "source": [
    "df = df.drop_duplicates().reset_index(drop=True)\n",
    "df.info()\n",
    "# удаление явных дубликатов"
   ]
  },
  {
   "cell_type": "code",
   "execution_count": 71,
   "metadata": {},
   "outputs": [
    {
     "data": {
      "text/plain": [
       "(61253, 7)"
      ]
     },
     "execution_count": 71,
     "metadata": {},
     "output_type": "execute_result"
    }
   ],
   "source": [
    "df.shape"
   ]
  },
  {
   "cell_type": "code",
   "execution_count": 99,
   "metadata": {
    "id": "-8PuNWQ0_Zct",
    "scrolled": false
   },
   "outputs": [
    {
     "name": "stdout",
     "output_type": "stream",
     "text": [
      "0\n"
     ]
    }
   ],
   "source": [
    "print(df.duplicated().sum())\n",
    "# проверка на отсутствие дубликатов"
   ]
  },
  {
   "cell_type": "code",
   "execution_count": 100,
   "metadata": {
    "id": "JIUcqzZN_Zct",
    "scrolled": true
   },
   "outputs": [
    {
     "name": "stdout",
     "output_type": "stream",
     "text": [
      "['acid' 'acoustic' 'action' 'adult' 'africa' 'afrikaans' 'alternative'\n",
      " 'alternativepunk' 'ambient' 'americana' 'animated' 'anime' 'arabesk'\n",
      " 'arabic' 'arena' 'argentinetango' 'art' 'audiobook' 'author' 'avantgarde'\n",
      " 'axé' 'baile' 'balkan' 'beats' 'bigroom' 'black' 'bluegrass' 'blues'\n",
      " 'bollywood' 'bossa' 'brazilian' 'breakbeat' 'breaks' 'broadway'\n",
      " 'cantautori' 'cantopop' 'canzone' 'caribbean' 'caucasian' 'celtic'\n",
      " 'chamber' 'chanson' 'children' 'chill' 'chinese' 'choral' 'christian'\n",
      " 'christmas' 'classical' 'classicmetal' 'club' 'colombian' 'comedy'\n",
      " 'conjazz' 'contemporary' 'country' 'cuban' 'dance' 'dancehall' 'dancepop'\n",
      " 'dark' 'death' 'deep' 'deutschrock' 'deutschspr' 'dirty' 'disco' 'dnb'\n",
      " 'documentary' 'downbeat' 'downtempo' 'drum' 'dub' 'dubstep' 'eastern'\n",
      " 'easy' 'electronic' 'electropop' 'emo' 'entehno' 'epicmetal' 'estrada'\n",
      " 'ethnic' 'eurofolk' 'european' 'experimental' 'extrememetal' 'fado'\n",
      " 'fairytail' 'film' 'fitness' 'flamenco' 'folk' 'folklore' 'folkmetal'\n",
      " 'folkrock' 'folktronica' 'forró' 'frankreich' 'französisch' 'french'\n",
      " 'funk' 'future' 'gangsta' 'garage' 'german' 'ghazal' 'gitarre' 'glitch'\n",
      " 'gospel' 'gothic' 'grime' 'grunge' 'gypsy' 'handsup' \"hard'n'heavy\"\n",
      " 'hardcore' 'hardstyle' 'hardtechno' 'hiphop' 'historisch' 'holiday'\n",
      " 'horror' 'house' 'hymn' 'idm' 'independent' 'indian' 'indie' 'indipop'\n",
      " 'industrial' 'inspirational' 'instrumental' 'international' 'irish' 'jam'\n",
      " 'japanese' 'jazz' 'jewish' 'jpop' 'jungle' 'k-pop' 'karadeniz' 'karaoke'\n",
      " 'kayokyoku' 'korean' 'laiko' 'latin' 'latino' 'leftfield' 'local'\n",
      " 'lounge' 'loungeelectronic' 'lovers' 'malaysian' 'mandopop' 'marschmusik'\n",
      " 'meditative' 'mediterranean' 'melodic' 'metal' 'metalcore' 'mexican'\n",
      " 'middle' 'minimal' 'miscellaneous' 'modern' 'mood' 'mpb' 'muslim'\n",
      " 'native' 'neoklassik' 'neue' 'new' 'newage' 'newwave' 'nu' 'nujazz'\n",
      " 'numetal' 'oceania' 'old' 'opera' 'orchestral' 'other' 'piano' 'podcasts'\n",
      " 'pop' 'popdance' 'popelectronic' 'popeurodance' 'poprussian' 'post'\n",
      " 'posthardcore' 'postrock' 'power' 'progmetal' 'progressive' 'psychedelic'\n",
      " 'punjabi' 'punk' 'quebecois' 'ragga' 'ram' 'rancheras' 'rap' 'rave'\n",
      " 'reggae' 'reggaeton' 'regional' 'relax' 'religious' 'retro' 'rhythm'\n",
      " 'rnb' 'rnr' 'rock' 'rockabilly' 'rockalternative' 'rockindie' 'rockother'\n",
      " 'romance' 'roots' 'ruspop' 'rusrap' 'rusrock' 'russian' 'salsa' 'samba'\n",
      " 'scenic' 'schlager' 'self' 'sertanejo' 'shanson' 'shoegazing' 'showtunes'\n",
      " 'singer' 'ska' 'skarock' 'slow' 'smooth' 'soft' 'soul' 'soulful' 'sound'\n",
      " 'soundtrack' 'southern' 'specialty' 'speech' 'spiritual' 'sport'\n",
      " 'stonerrock' 'surf' 'swing' 'synthpop' 'synthrock' 'sängerportrait'\n",
      " 'tango' 'tanzorchester' 'taraftar' 'tatar' 'tech' 'techno' 'teen'\n",
      " 'thrash' 'top' 'traditional' 'tradjazz' 'trance' 'tribal' 'trip'\n",
      " 'triphop' 'tropical' 'türk' 'türkçe' 'ukrrock' 'unknown' 'urban' 'uzbek'\n",
      " 'variété' 'vi' 'videogame' 'vocal' 'western' 'world' 'worldbeat' 'ïîï'\n",
      " 'электроника']\n"
     ]
    }
   ],
   "source": [
    "print(df['genre'].sort_values().unique())\n",
    "# Просмотр уникальных названий жанров"
   ]
  },
  {
   "cell_type": "code",
   "execution_count": 74,
   "metadata": {
    "id": "ErNDkmns_Zct"
   },
   "outputs": [],
   "source": [
    "def replace_wrong_genres(wrong_genres, correct_genre):\n",
    "    for wrong_genre in wrong_genres:\n",
    "        df['genre'] = df['genre'].replace(wrong_genre, correct_genre) \n",
    "# Функция для замены неявных дубликатов"
   ]
  },
  {
   "cell_type": "code",
   "execution_count": 75,
   "metadata": {
    "id": "YN5i2hpmSo09"
   },
   "outputs": [],
   "source": [
    "replace_wrong_genres(['hip', 'hop', 'hip-hop'], 'hiphop')\n",
    "# Устранение неявных дубликатов"
   ]
  },
  {
   "cell_type": "code",
   "execution_count": 101,
   "metadata": {
    "id": "wvixALnFG15m",
    "scrolled": true
   },
   "outputs": [
    {
     "name": "stdout",
     "output_type": "stream",
     "text": [
      "['acid' 'acoustic' 'action' 'adult' 'africa' 'afrikaans' 'alternative'\n",
      " 'alternativepunk' 'ambient' 'americana' 'animated' 'anime' 'arabesk'\n",
      " 'arabic' 'arena' 'argentinetango' 'art' 'audiobook' 'author' 'avantgarde'\n",
      " 'axé' 'baile' 'balkan' 'beats' 'bigroom' 'black' 'bluegrass' 'blues'\n",
      " 'bollywood' 'bossa' 'brazilian' 'breakbeat' 'breaks' 'broadway'\n",
      " 'cantautori' 'cantopop' 'canzone' 'caribbean' 'caucasian' 'celtic'\n",
      " 'chamber' 'chanson' 'children' 'chill' 'chinese' 'choral' 'christian'\n",
      " 'christmas' 'classical' 'classicmetal' 'club' 'colombian' 'comedy'\n",
      " 'conjazz' 'contemporary' 'country' 'cuban' 'dance' 'dancehall' 'dancepop'\n",
      " 'dark' 'death' 'deep' 'deutschrock' 'deutschspr' 'dirty' 'disco' 'dnb'\n",
      " 'documentary' 'downbeat' 'downtempo' 'drum' 'dub' 'dubstep' 'eastern'\n",
      " 'easy' 'electronic' 'electropop' 'emo' 'entehno' 'epicmetal' 'estrada'\n",
      " 'ethnic' 'eurofolk' 'european' 'experimental' 'extrememetal' 'fado'\n",
      " 'fairytail' 'film' 'fitness' 'flamenco' 'folk' 'folklore' 'folkmetal'\n",
      " 'folkrock' 'folktronica' 'forró' 'frankreich' 'französisch' 'french'\n",
      " 'funk' 'future' 'gangsta' 'garage' 'german' 'ghazal' 'gitarre' 'glitch'\n",
      " 'gospel' 'gothic' 'grime' 'grunge' 'gypsy' 'handsup' \"hard'n'heavy\"\n",
      " 'hardcore' 'hardstyle' 'hardtechno' 'hiphop' 'historisch' 'holiday'\n",
      " 'horror' 'house' 'hymn' 'idm' 'independent' 'indian' 'indie' 'indipop'\n",
      " 'industrial' 'inspirational' 'instrumental' 'international' 'irish' 'jam'\n",
      " 'japanese' 'jazz' 'jewish' 'jpop' 'jungle' 'k-pop' 'karadeniz' 'karaoke'\n",
      " 'kayokyoku' 'korean' 'laiko' 'latin' 'latino' 'leftfield' 'local'\n",
      " 'lounge' 'loungeelectronic' 'lovers' 'malaysian' 'mandopop' 'marschmusik'\n",
      " 'meditative' 'mediterranean' 'melodic' 'metal' 'metalcore' 'mexican'\n",
      " 'middle' 'minimal' 'miscellaneous' 'modern' 'mood' 'mpb' 'muslim'\n",
      " 'native' 'neoklassik' 'neue' 'new' 'newage' 'newwave' 'nu' 'nujazz'\n",
      " 'numetal' 'oceania' 'old' 'opera' 'orchestral' 'other' 'piano' 'podcasts'\n",
      " 'pop' 'popdance' 'popelectronic' 'popeurodance' 'poprussian' 'post'\n",
      " 'posthardcore' 'postrock' 'power' 'progmetal' 'progressive' 'psychedelic'\n",
      " 'punjabi' 'punk' 'quebecois' 'ragga' 'ram' 'rancheras' 'rap' 'rave'\n",
      " 'reggae' 'reggaeton' 'regional' 'relax' 'religious' 'retro' 'rhythm'\n",
      " 'rnb' 'rnr' 'rock' 'rockabilly' 'rockalternative' 'rockindie' 'rockother'\n",
      " 'romance' 'roots' 'ruspop' 'rusrap' 'rusrock' 'russian' 'salsa' 'samba'\n",
      " 'scenic' 'schlager' 'self' 'sertanejo' 'shanson' 'shoegazing' 'showtunes'\n",
      " 'singer' 'ska' 'skarock' 'slow' 'smooth' 'soft' 'soul' 'soulful' 'sound'\n",
      " 'soundtrack' 'southern' 'specialty' 'speech' 'spiritual' 'sport'\n",
      " 'stonerrock' 'surf' 'swing' 'synthpop' 'synthrock' 'sängerportrait'\n",
      " 'tango' 'tanzorchester' 'taraftar' 'tatar' 'tech' 'techno' 'teen'\n",
      " 'thrash' 'top' 'traditional' 'tradjazz' 'trance' 'tribal' 'trip'\n",
      " 'triphop' 'tropical' 'türk' 'türkçe' 'ukrrock' 'unknown' 'urban' 'uzbek'\n",
      " 'variété' 'vi' 'videogame' 'vocal' 'western' 'world' 'worldbeat' 'ïîï'\n",
      " 'электроника']\n"
     ]
    }
   ],
   "source": [
    "print(df['genre'].sort_values().unique()) \n",
    "# Проверка на неявные дубликаты"
   ]
  },
  {
   "cell_type": "markdown",
   "metadata": {
    "id": "jz6a9-7HQUDd"
   },
   "source": [
    "**Выводы**\n",
    "\n",
    "Предобработка обнаружила три проблемы в данных:\n",
    "\n",
    "- нарушения в стиле заголовков,\n",
    "- пропущенные значения,\n",
    "- дубликаты — явные и неявные.\n",
    "\n",
    "Исправили заголовки, чтобы упростить работу с таблицей. Без дубликатов исследование станет более точным.\n",
    "\n",
    "Пропущенные значения заменили на `'unknown'`. Ещё предстоит увидеть, не повредят ли исследованию пропуски в колонке `genre`.\n",
    "\n",
    "Теперь можно перейти к проверке гипотез. "
   ]
  },
  {
   "cell_type": "markdown",
   "metadata": {
    "id": "WttZHXH0SqKk"
   },
   "source": [
    "## Проверка гипотез"
   ]
  },
  {
   "cell_type": "markdown",
   "metadata": {
    "id": "Im936VVi_Zcu"
   },
   "source": [
    "### Сравнение поведения пользователей двух столиц"
   ]
  },
  {
   "cell_type": "markdown",
   "metadata": {
    "id": "nwt_MuaL_Zcu"
   },
   "source": [
    "Первая гипотеза утверждает, что пользователи по-разному слушают музыку в Москве и Санкт-Петербурге. Проверим это предположение по данным о трёх днях недели — понедельнике, среде и пятнице. Для этого:\n",
    "\n",
    "* Разделим пользователей Москвы и Санкт-Петербурга\n",
    "* Сравним, сколько треков послушала каждая группа пользователей в понедельник, среду и пятницу.\n"
   ]
  },
  {
   "cell_type": "code",
   "execution_count": 77,
   "metadata": {
    "id": "0_Qs96oh_Zcu",
    "scrolled": false
   },
   "outputs": [
    {
     "name": "stdout",
     "output_type": "stream",
     "text": [
      "city\n",
      "Moscow              42741\n",
      "Saint-Petersburg    18512\n",
      "Name: city, dtype: int64\n"
     ]
    }
   ],
   "source": [
    "print(df.groupby('city')['city'].count()) \n",
    "# Подсчёт прослушиваний в каждом городе"
   ]
  },
  {
   "cell_type": "markdown",
   "metadata": {
    "id": "dzli3w8o_Zcu"
   },
   "source": [
    "**Выводы**\n",
    "\n",
    "В Москве прослушиваний больше, чем в Петербурге. Из этого не следует, что московские пользователи чаще слушают музыку. Просто самих пользователей в Москве больше."
   ]
  },
  {
   "cell_type": "code",
   "execution_count": 78,
   "metadata": {
    "id": "uZMKjiJz_Zcu"
   },
   "outputs": [
    {
     "name": "stdout",
     "output_type": "stream",
     "text": [
      "day\n",
      "Friday       21840\n",
      "Monday       21354\n",
      "Wednesday    18059\n",
      "Name: city, dtype: int64\n"
     ]
    }
   ],
   "source": [
    "print(df.groupby('day')['city'].count())\n",
    "    # Подсчёт прослушиваний в каждый из трёх дней"
   ]
  },
  {
   "cell_type": "markdown",
   "metadata": {
    "id": "cC2tNrlL_Zcu"
   },
   "source": [
    "**Выводы**\n",
    "\n",
    "В среднем пользователи из двух городов менее активны по средам. Но картина может измениться, если рассмотреть каждый город в отдельности."
   ]
  },
  {
   "cell_type": "code",
   "execution_count": 105,
   "metadata": {
    "id": "Nz3GdQB1_Zcu"
   },
   "outputs": [],
   "source": [
    "def number_tracks(day, city):\n",
    "\n",
    "    track_list = [] \n",
    "    track_list = df[df['day'] == day]\n",
    "    track_list = track_list[track_list['city'] == city]\n",
    "    track_list_count = track_list.count()['user_id']\n",
    "    return track_list_count   \n",
    "# <создание функции number_tracks()>"
   ]
  },
  {
   "cell_type": "code",
   "execution_count": 80,
   "metadata": {
    "id": "rJcRATNQ_Zcu"
   },
   "outputs": [
    {
     "data": {
      "text/plain": [
       "15740"
      ]
     },
     "execution_count": 80,
     "metadata": {},
     "output_type": "execute_result"
    }
   ],
   "source": [
    "number_tracks('Monday', 'Moscow')\n",
    "# количество прослушиваний в Москве по понедельникам"
   ]
  },
  {
   "cell_type": "code",
   "execution_count": 81,
   "metadata": {
    "id": "hq_ncZ5T_Zcu"
   },
   "outputs": [
    {
     "data": {
      "text/plain": [
       "5614"
      ]
     },
     "execution_count": 81,
     "metadata": {},
     "output_type": "execute_result"
    }
   ],
   "source": [
    "number_tracks('Monday', 'Saint-Petersburg')\n",
    "# количество прослушиваний в Санкт-Петербурге по понедельникам"
   ]
  },
  {
   "cell_type": "code",
   "execution_count": 82,
   "metadata": {
    "id": "_NTy2VPU_Zcu"
   },
   "outputs": [
    {
     "data": {
      "text/plain": [
       "11056"
      ]
     },
     "execution_count": 82,
     "metadata": {},
     "output_type": "execute_result"
    }
   ],
   "source": [
    "number_tracks('Wednesday', 'Moscow')\n",
    "# количество прослушиваний в Москве по средам"
   ]
  },
  {
   "cell_type": "code",
   "execution_count": 83,
   "metadata": {
    "id": "j2y3TAwo_Zcu"
   },
   "outputs": [
    {
     "data": {
      "text/plain": [
       "7003"
      ]
     },
     "execution_count": 83,
     "metadata": {},
     "output_type": "execute_result"
    }
   ],
   "source": [
    "number_tracks('Wednesday', 'Saint-Petersburg')\n",
    "# количество прослушиваний в Санкт-Петербурге по средам"
   ]
  },
  {
   "cell_type": "code",
   "execution_count": 84,
   "metadata": {
    "id": "vYDw5u_K_Zcu"
   },
   "outputs": [
    {
     "data": {
      "text/plain": [
       "15945"
      ]
     },
     "execution_count": 84,
     "metadata": {},
     "output_type": "execute_result"
    }
   ],
   "source": [
    "number_tracks('Friday', 'Moscow')\n",
    "# количество прослушиваний в Москве по пятницам"
   ]
  },
  {
   "cell_type": "code",
   "execution_count": 85,
   "metadata": {
    "id": "8_yzFtW3_Zcu"
   },
   "outputs": [
    {
     "data": {
      "text/plain": [
       "5895"
      ]
     },
     "execution_count": 85,
     "metadata": {},
     "output_type": "execute_result"
    }
   ],
   "source": [
    "number_tracks('Friday', 'Saint-Petersburg')\n",
    "# количество прослушиваний в Санкт-Петербурге по пятницам"
   ]
  },
  {
   "cell_type": "code",
   "execution_count": 86,
   "metadata": {
    "id": "APAcLpOr_Zcu"
   },
   "outputs": [
    {
     "data": {
      "text/html": [
       "<div>\n",
       "<style scoped>\n",
       "    .dataframe tbody tr th:only-of-type {\n",
       "        vertical-align: middle;\n",
       "    }\n",
       "\n",
       "    .dataframe tbody tr th {\n",
       "        vertical-align: top;\n",
       "    }\n",
       "\n",
       "    .dataframe thead th {\n",
       "        text-align: right;\n",
       "    }\n",
       "</style>\n",
       "<table border=\"1\" class=\"dataframe\">\n",
       "  <thead>\n",
       "    <tr style=\"text-align: right;\">\n",
       "      <th></th>\n",
       "      <th>city</th>\n",
       "      <th>monday</th>\n",
       "      <th>wednesday</th>\n",
       "      <th>friday</th>\n",
       "    </tr>\n",
       "  </thead>\n",
       "  <tbody>\n",
       "    <tr>\n",
       "      <th>0</th>\n",
       "      <td>Moscow</td>\n",
       "      <td>16715</td>\n",
       "      <td>11755</td>\n",
       "      <td>16890</td>\n",
       "    </tr>\n",
       "    <tr>\n",
       "      <th>1</th>\n",
       "      <td>Saint-Petersburg</td>\n",
       "      <td>5982</td>\n",
       "      <td>7478</td>\n",
       "      <td>6259</td>\n",
       "    </tr>\n",
       "  </tbody>\n",
       "</table>\n",
       "</div>"
      ],
      "text/plain": [
       "               city  monday  wednesday  friday\n",
       "0            Moscow   16715      11755   16890\n",
       "1  Saint-Petersburg    5982       7478    6259"
      ]
     },
     "metadata": {},
     "output_type": "display_data"
    }
   ],
   "source": [
    "data = [['Moscow',16715, 11755, 16890],\n",
    "       ['Saint-Petersburg', 5982, 7478, 6259]]\n",
    "\n",
    "columns = ['city', 'monday', 'wednesday', 'friday']\n",
    "table = pd.DataFrame(data=data, columns=columns)\n",
    "display(table)\n",
    "# Таблица с результатами"
   ]
  },
  {
   "cell_type": "markdown",
   "metadata": {
    "id": "-EgPIHYu_Zcu"
   },
   "source": [
    "**Выводы**\n",
    "\n",
    "Данные показывают разницу поведения пользователей:\n",
    "\n",
    "- В Москве пик прослушиваний приходится на понедельник и пятницу, а в среду заметен спад.\n",
    "- В Петербурге, наоборот, больше слушают музыку по средам. Активность в понедельник и пятницу здесь почти в равной мере уступает среде.\n",
    "\n",
    "Значит, данные говорят в пользу первой гипотезы."
   ]
  },
  {
   "cell_type": "markdown",
   "metadata": {
    "id": "atZAxtq4_Zcu"
   },
   "source": [
    "### Музыка в начале и в конце недели"
   ]
  },
  {
   "cell_type": "markdown",
   "metadata": {
    "id": "eXrQqXFH_Zcu"
   },
   "source": [
    "Согласно второй гипотезе, утром в понедельник в Москве преобладают одни жанры, а в Петербурге — другие. Так же и вечером пятницы преобладают разные жанры — в зависимости от города."
   ]
  },
  {
   "cell_type": "code",
   "execution_count": 87,
   "metadata": {
    "id": "qeaFfM_P_Zcu"
   },
   "outputs": [
    {
     "data": {
      "text/html": [
       "<div>\n",
       "<style scoped>\n",
       "    .dataframe tbody tr th:only-of-type {\n",
       "        vertical-align: middle;\n",
       "    }\n",
       "\n",
       "    .dataframe tbody tr th {\n",
       "        vertical-align: top;\n",
       "    }\n",
       "\n",
       "    .dataframe thead th {\n",
       "        text-align: right;\n",
       "    }\n",
       "</style>\n",
       "<table border=\"1\" class=\"dataframe\">\n",
       "  <thead>\n",
       "    <tr style=\"text-align: right;\">\n",
       "      <th></th>\n",
       "      <th>user_id</th>\n",
       "      <th>track</th>\n",
       "      <th>artist</th>\n",
       "      <th>genre</th>\n",
       "      <th>city</th>\n",
       "      <th>time</th>\n",
       "      <th>day</th>\n",
       "    </tr>\n",
       "  </thead>\n",
       "  <tbody>\n",
       "    <tr>\n",
       "      <th>1</th>\n",
       "      <td>55204538</td>\n",
       "      <td>Delayed Because of Accident</td>\n",
       "      <td>Andreas Rönnberg</td>\n",
       "      <td>rock</td>\n",
       "      <td>Moscow</td>\n",
       "      <td>14:07:09</td>\n",
       "      <td>Friday</td>\n",
       "    </tr>\n",
       "    <tr>\n",
       "      <th>4</th>\n",
       "      <td>E2DC1FAE</td>\n",
       "      <td>Soul People</td>\n",
       "      <td>Space Echo</td>\n",
       "      <td>dance</td>\n",
       "      <td>Moscow</td>\n",
       "      <td>08:34:34</td>\n",
       "      <td>Monday</td>\n",
       "    </tr>\n",
       "    <tr>\n",
       "      <th>6</th>\n",
       "      <td>4CB90AA5</td>\n",
       "      <td>True</td>\n",
       "      <td>Roman Messer</td>\n",
       "      <td>dance</td>\n",
       "      <td>Moscow</td>\n",
       "      <td>13:00:07</td>\n",
       "      <td>Wednesday</td>\n",
       "    </tr>\n",
       "    <tr>\n",
       "      <th>7</th>\n",
       "      <td>F03E1C1F</td>\n",
       "      <td>Feeling This Way</td>\n",
       "      <td>Polina Griffith</td>\n",
       "      <td>dance</td>\n",
       "      <td>Moscow</td>\n",
       "      <td>20:47:49</td>\n",
       "      <td>Wednesday</td>\n",
       "    </tr>\n",
       "    <tr>\n",
       "      <th>8</th>\n",
       "      <td>8FA1D3BE</td>\n",
       "      <td>И вновь продолжается бой</td>\n",
       "      <td>unknown</td>\n",
       "      <td>ruspop</td>\n",
       "      <td>Moscow</td>\n",
       "      <td>09:17:40</td>\n",
       "      <td>Friday</td>\n",
       "    </tr>\n",
       "  </tbody>\n",
       "</table>\n",
       "</div>"
      ],
      "text/plain": [
       "    user_id                        track            artist   genre    city  \\\n",
       "1  55204538  Delayed Because of Accident  Andreas Rönnberg    rock  Moscow   \n",
       "4  E2DC1FAE                  Soul People        Space Echo   dance  Moscow   \n",
       "6  4CB90AA5                         True      Roman Messer   dance  Moscow   \n",
       "7  F03E1C1F             Feeling This Way   Polina Griffith   dance  Moscow   \n",
       "8  8FA1D3BE     И вновь продолжается бой           unknown  ruspop  Moscow   \n",
       "\n",
       "       time        day  \n",
       "1  14:07:09     Friday  \n",
       "4  08:34:34     Monday  \n",
       "6  13:00:07  Wednesday  \n",
       "7  20:47:49  Wednesday  \n",
       "8  09:17:40     Friday  "
      ]
     },
     "execution_count": 87,
     "metadata": {},
     "output_type": "execute_result"
    }
   ],
   "source": [
    "moscow_general = df[df['city'] == 'Moscow']\n",
    "moscow_general.head()\n",
    "# срез данных по городу Москве"
   ]
  },
  {
   "cell_type": "code",
   "execution_count": 88,
   "metadata": {
    "id": "ORaVRKto_Zcu"
   },
   "outputs": [
    {
     "data": {
      "text/html": [
       "<div>\n",
       "<style scoped>\n",
       "    .dataframe tbody tr th:only-of-type {\n",
       "        vertical-align: middle;\n",
       "    }\n",
       "\n",
       "    .dataframe tbody tr th {\n",
       "        vertical-align: top;\n",
       "    }\n",
       "\n",
       "    .dataframe thead th {\n",
       "        text-align: right;\n",
       "    }\n",
       "</style>\n",
       "<table border=\"1\" class=\"dataframe\">\n",
       "  <thead>\n",
       "    <tr style=\"text-align: right;\">\n",
       "      <th></th>\n",
       "      <th>user_id</th>\n",
       "      <th>track</th>\n",
       "      <th>artist</th>\n",
       "      <th>genre</th>\n",
       "      <th>city</th>\n",
       "      <th>time</th>\n",
       "      <th>day</th>\n",
       "    </tr>\n",
       "  </thead>\n",
       "  <tbody>\n",
       "    <tr>\n",
       "      <th>0</th>\n",
       "      <td>FFB692EC</td>\n",
       "      <td>Kamigata To Boots</td>\n",
       "      <td>The Mass Missile</td>\n",
       "      <td>rock</td>\n",
       "      <td>Saint-Petersburg</td>\n",
       "      <td>20:28:33</td>\n",
       "      <td>Wednesday</td>\n",
       "    </tr>\n",
       "    <tr>\n",
       "      <th>2</th>\n",
       "      <td>20EC38</td>\n",
       "      <td>Funiculì funiculà</td>\n",
       "      <td>Mario Lanza</td>\n",
       "      <td>pop</td>\n",
       "      <td>Saint-Petersburg</td>\n",
       "      <td>20:58:07</td>\n",
       "      <td>Wednesday</td>\n",
       "    </tr>\n",
       "    <tr>\n",
       "      <th>3</th>\n",
       "      <td>A3DD03C9</td>\n",
       "      <td>Dragons in the Sunset</td>\n",
       "      <td>Fire + Ice</td>\n",
       "      <td>folk</td>\n",
       "      <td>Saint-Petersburg</td>\n",
       "      <td>08:37:09</td>\n",
       "      <td>Monday</td>\n",
       "    </tr>\n",
       "    <tr>\n",
       "      <th>5</th>\n",
       "      <td>842029A1</td>\n",
       "      <td>Преданная</td>\n",
       "      <td>IMPERVTOR</td>\n",
       "      <td>rusrap</td>\n",
       "      <td>Saint-Petersburg</td>\n",
       "      <td>13:09:41</td>\n",
       "      <td>Friday</td>\n",
       "    </tr>\n",
       "    <tr>\n",
       "      <th>9</th>\n",
       "      <td>E772D5C0</td>\n",
       "      <td>Pessimist</td>\n",
       "      <td>unknown</td>\n",
       "      <td>dance</td>\n",
       "      <td>Saint-Petersburg</td>\n",
       "      <td>21:20:49</td>\n",
       "      <td>Wednesday</td>\n",
       "    </tr>\n",
       "  </tbody>\n",
       "</table>\n",
       "</div>"
      ],
      "text/plain": [
       "    user_id                  track            artist   genre  \\\n",
       "0  FFB692EC      Kamigata To Boots  The Mass Missile    rock   \n",
       "2    20EC38      Funiculì funiculà       Mario Lanza     pop   \n",
       "3  A3DD03C9  Dragons in the Sunset        Fire + Ice    folk   \n",
       "5  842029A1              Преданная         IMPERVTOR  rusrap   \n",
       "9  E772D5C0              Pessimist           unknown   dance   \n",
       "\n",
       "               city      time        day  \n",
       "0  Saint-Petersburg  20:28:33  Wednesday  \n",
       "2  Saint-Petersburg  20:58:07  Wednesday  \n",
       "3  Saint-Petersburg  08:37:09     Monday  \n",
       "5  Saint-Petersburg  13:09:41     Friday  \n",
       "9  Saint-Petersburg  21:20:49  Wednesday  "
      ]
     },
     "execution_count": 88,
     "metadata": {},
     "output_type": "execute_result"
    }
   ],
   "source": [
    "spb_general = df[df['city']  == 'Saint-Petersburg']\n",
    "spb_general.head()\n",
    "# срез данных по городу Санкт-Петербургу"
   ]
  },
  {
   "cell_type": "code",
   "execution_count": 102,
   "metadata": {
    "id": "laJT9BYl_Zcu"
   },
   "outputs": [],
   "source": [
    "def genre_weekday(table, day, time1, time2):\n",
    "    genre_df = table[table['day'] == day]\n",
    "    genre_df = genre_df[genre_df['time'] > time1]\n",
    "    genre_df = genre_df[genre_df['time'] < time2]\n",
    "    genre_df_count = genre_df.groupby('genre')['genre'].count()\n",
    "    genre_df_sorted = genre_df_count.sort_values(ascending=False)\n",
    "    return genre_df_sorted.head(10)\n",
    "# Объявление функции genre_weekday()"
   ]
  },
  {
   "cell_type": "markdown",
   "metadata": {
    "id": "la2s2_PF_Zcu"
   },
   "source": [
    "Cравним результаты функции `genre_weekday()` для Москвы и Санкт-Петербурга в понедельник утром (с 7:00 до 11:00) и в пятницу вечером (с 17:00 до 23:00):"
   ]
  },
  {
   "cell_type": "code",
   "execution_count": 90,
   "metadata": {
    "id": "yz7itPUQ_Zcu"
   },
   "outputs": [
    {
     "data": {
      "text/plain": [
       "genre\n",
       "pop            781\n",
       "dance          549\n",
       "electronic     480\n",
       "rock           474\n",
       "hiphop         286\n",
       "ruspop         186\n",
       "world          181\n",
       "rusrap         175\n",
       "alternative    164\n",
       "unknown        161\n",
       "Name: genre, dtype: int64"
      ]
     },
     "execution_count": 90,
     "metadata": {},
     "output_type": "execute_result"
    }
   ],
   "source": [
    "genre_weekday(moscow_general, 'Monday', '07:00', '11:00')\n",
    "# вызов функции для утра понедельника в Москве"
   ]
  },
  {
   "cell_type": "code",
   "execution_count": 91,
   "metadata": {
    "id": "kwUcHPdy_Zcu"
   },
   "outputs": [
    {
     "data": {
      "text/plain": [
       "genre\n",
       "pop            218\n",
       "dance          182\n",
       "rock           162\n",
       "electronic     147\n",
       "hiphop          80\n",
       "ruspop          64\n",
       "alternative     58\n",
       "rusrap          55\n",
       "jazz            44\n",
       "classical       40\n",
       "Name: genre, dtype: int64"
      ]
     },
     "execution_count": 91,
     "metadata": {},
     "output_type": "execute_result"
    }
   ],
   "source": [
    "genre_weekday(spb_general, 'Monday', '07:00', '11:00')\n",
    "# вызов функции для утра понедельника в Санкт-Петербурге"
   ]
  },
  {
   "cell_type": "code",
   "execution_count": 92,
   "metadata": {
    "id": "EzXVRE1o_Zcu"
   },
   "outputs": [
    {
     "data": {
      "text/plain": [
       "genre\n",
       "pop            713\n",
       "rock           517\n",
       "dance          495\n",
       "electronic     482\n",
       "hiphop         273\n",
       "world          208\n",
       "ruspop         170\n",
       "alternative    163\n",
       "classical      163\n",
       "rusrap         142\n",
       "Name: genre, dtype: int64"
      ]
     },
     "execution_count": 92,
     "metadata": {},
     "output_type": "execute_result"
    }
   ],
   "source": [
    "genre_weekday(moscow_general, 'Friday', '17:00', '23.00')\n",
    "# вызов функции для вечера пятницы в Москве"
   ]
  },
  {
   "cell_type": "code",
   "execution_count": 93,
   "metadata": {
    "id": "JZaEKu5v_Zcu"
   },
   "outputs": [
    {
     "data": {
      "text/plain": [
       "genre\n",
       "pop            256\n",
       "electronic     216\n",
       "rock           216\n",
       "dance          210\n",
       "hiphop          97\n",
       "alternative     63\n",
       "jazz            61\n",
       "classical       60\n",
       "rusrap          59\n",
       "world           54\n",
       "Name: genre, dtype: int64"
      ]
     },
     "execution_count": 93,
     "metadata": {},
     "output_type": "execute_result"
    }
   ],
   "source": [
    "genre_weekday(spb_general, 'Friday', '17:00', '23:00')\n",
    "# вызов функции для вечера пятницы в Петербурге"
   ]
  },
  {
   "cell_type": "markdown",
   "metadata": {
    "id": "wrCe4MNX_Zcu"
   },
   "source": [
    "**Выводы**\n",
    "\n",
    "Если сравнить топ-10 жанров в понедельник утром, можно сделать такие выводы:\n",
    "\n",
    "1. В Москве и Петербурге слушают похожую музыку. Единственное отличие — в московский рейтинг вошёл жанр “world”, а в петербургский — джаз и классика.\n",
    "\n",
    "2. В Москве пропущенных значений оказалось так много, что значение `'unknown'` заняло десятое место среди самых популярных жанров. Значит, пропущенные значения занимают существенную долю в данных и угрожают достоверности исследования.\n",
    "\n",
    "Вечер пятницы не меняет эту картину. Некоторые жанры поднимаются немного выше, другие спускаются, но в целом топ-10 остаётся тем же самым.\n",
    "\n",
    "Таким образом, вторая гипотеза подтвердилась лишь частично:\n",
    "* Пользователи слушают похожую музыку в начале недели и в конце.\n",
    "* Разница между Москвой и Петербургом не слишком выражена. В Москве чаще слушают русскую популярную музыку, в Петербурге — джаз.\n",
    "\n",
    "Однако пропуски в данных ставят под сомнение этот результат. В Москве их так много, что рейтинг топ-10 мог бы выглядеть иначе, если бы не утерянные  данные о жанрах."
   ]
  },
  {
   "cell_type": "markdown",
   "metadata": {
    "id": "JolODAqr_Zcu"
   },
   "source": [
    "### Жанровые предпочтения в Москве и Петербурге\n",
    "\n",
    "Гипотеза: Петербург — столица рэпа, музыку этого жанра там слушают чаще, чем в Москве.  А Москва — город контрастов, в котором, тем не менее, преобладает поп-музыка."
   ]
  },
  {
   "cell_type": "markdown",
   "metadata": {
    "id": "DlegSvaT_Zcu"
   },
   "source": [
    "Сгруппируем таблицу `moscow_general` по жанру и посчитайте прослушивания треков каждого жанра методом `count()`. Затем отсортируем результат в порядке убывания и сохраните его в таблице `moscow_genres`."
   ]
  },
  {
   "cell_type": "code",
   "execution_count": 103,
   "metadata": {
    "id": "r19lIPke_Zcu"
   },
   "outputs": [],
   "source": [
    "moscow_genres = moscow_general.groupby('genre')['genre'].count().sort_values(ascending=False)\n",
    "# группировка таблицы moscow_general по жанру"
   ]
  },
  {
   "cell_type": "code",
   "execution_count": 95,
   "metadata": {
    "id": "WhCSooF8_Zcv"
   },
   "outputs": [
    {
     "data": {
      "text/plain": [
       "genre\n",
       "pop            5892\n",
       "dance          4435\n",
       "rock           3965\n",
       "electronic     3786\n",
       "hiphop         2096\n",
       "classical      1616\n",
       "world          1432\n",
       "alternative    1379\n",
       "ruspop         1372\n",
       "rusrap         1161\n",
       "Name: genre, dtype: int64"
      ]
     },
     "execution_count": 95,
     "metadata": {},
     "output_type": "execute_result"
    }
   ],
   "source": [
    "moscow_genres.head(10)\n",
    "# просмотр первых 10 строк moscow_genres"
   ]
  },
  {
   "cell_type": "markdown",
   "metadata": {
    "id": "cnPG2vnN_Zcv"
   },
   "source": [
    "Для Петербурга.\n",
    "\n",
    "Сгруппируем таблицу `spb_general` по жанру. Посчитаем прослушивания треков каждого жанра. Результат отсортируем в порядке убывания и сохраните в таблице `spb_genres`:\n"
   ]
  },
  {
   "cell_type": "code",
   "execution_count": 104,
   "metadata": {
    "id": "gluLIpE7_Zcv"
   },
   "outputs": [],
   "source": [
    "spb_genres = spb_general.groupby('genre')['genre'].count().sort_values(ascending=False)\n",
    "# подсчёт числа значений 'genre'  "
   ]
  },
  {
   "cell_type": "code",
   "execution_count": 97,
   "metadata": {
    "id": "uaGJHjVU_Zcv"
   },
   "outputs": [
    {
     "data": {
      "text/plain": [
       "genre\n",
       "pop            2431\n",
       "dance          1932\n",
       "rock           1879\n",
       "electronic     1736\n",
       "hiphop          960\n",
       "alternative     649\n",
       "classical       646\n",
       "rusrap          564\n",
       "ruspop          538\n",
       "world           515\n",
       "Name: genre, dtype: int64"
      ]
     },
     "execution_count": 97,
     "metadata": {},
     "output_type": "execute_result"
    }
   ],
   "source": [
    "spb_genres.head(10)\n",
    "# просмотр первых 10 строк spb_genres"
   ]
  },
  {
   "cell_type": "markdown",
   "metadata": {
    "id": "RY51YJYu_Zcv"
   },
   "source": [
    "**Выводы**"
   ]
  },
  {
   "cell_type": "markdown",
   "metadata": {
    "id": "nVhnJEm__Zcv"
   },
   "source": [
    "Гипотеза частично подтвердилась:\n",
    "* Поп-музыка — самый популярный жанр в Москве, как и предполагала гипотеза. Более того, в топ-10 жанров встречается близкий жанр — русская популярная музыка.\n",
    "* Вопреки ожиданиям, рэп одинаково популярен в Москве и Петербурге. \n"
   ]
  },
  {
   "cell_type": "markdown",
   "metadata": {
    "id": "ykKQ0N65_Zcv"
   },
   "source": [
    "## Итоги исследования"
   ]
  },
  {
   "cell_type": "markdown",
   "metadata": {
    "id": "tjUwbHb3_Zcv"
   },
   "source": [
    "Проверили три гипотезы и установили:\n",
    "\n",
    "1. День недели по-разному влияет на активность пользователей в Москве и Петербурге. \n",
    "\n",
    "Первая гипотеза полностью подтвердилась.\n",
    "\n",
    "2. Музыкальные предпочтения не сильно меняются в течение недели — будь то Москва или Петербург. Небольшие различия заметны в начале недели, по понедельникам:\n",
    "* в Москве слушают музыку жанра “world”,\n",
    "* в Петербурге — джаз и классику.\n",
    "\n",
    "Таким образом, вторая гипотеза подтвердилась лишь отчасти. Этот результат мог оказаться иным, если бы не пропуски в данных.\n",
    "\n",
    "3. Во вкусах пользователей Москвы и Петербурга больше общего чем различий. Вопреки ожиданиям, предпочтения жанров в Петербурге напоминают московские.\n",
    "\n",
    "Третья гипотеза не подтвердилась. Если различия в предпочтениях и существуют, на основной массе пользователей они незаметны."
   ]
  }
 ],
 "metadata": {
  "ExecuteTimeLog": [
   {
    "duration": 657,
    "start_time": "2022-05-01T14:35:12.551Z"
   },
   {
    "duration": 306,
    "start_time": "2022-05-01T14:36:58.010Z"
   },
   {
    "duration": 37,
    "start_time": "2022-05-01T14:42:58.105Z"
   },
   {
    "duration": 73,
    "start_time": "2022-05-01T14:45:59.207Z"
   },
   {
    "duration": 5,
    "start_time": "2022-05-01T15:04:52.735Z"
   },
   {
    "duration": 7,
    "start_time": "2022-05-01T15:05:03.450Z"
   },
   {
    "duration": 11,
    "start_time": "2022-05-01T15:05:15.596Z"
   },
   {
    "duration": 5,
    "start_time": "2022-05-01T15:05:23.889Z"
   },
   {
    "duration": 12,
    "start_time": "2022-05-01T15:05:43.889Z"
   },
   {
    "duration": 7,
    "start_time": "2022-05-01T15:14:09.813Z"
   },
   {
    "duration": 14,
    "start_time": "2022-05-01T15:15:27.289Z"
   },
   {
    "duration": 6,
    "start_time": "2022-05-01T15:15:34.141Z"
   },
   {
    "duration": 20,
    "start_time": "2022-05-01T15:16:15.899Z"
   },
   {
    "duration": 6,
    "start_time": "2022-05-01T15:16:21.913Z"
   },
   {
    "duration": 130,
    "start_time": "2022-05-01T15:21:31.968Z"
   },
   {
    "duration": 110,
    "start_time": "2022-05-01T15:21:52.754Z"
   },
   {
    "duration": 41,
    "start_time": "2022-05-01T15:22:24.673Z"
   },
   {
    "duration": 125,
    "start_time": "2022-05-01T15:35:32.717Z"
   },
   {
    "duration": 48,
    "start_time": "2022-05-01T15:37:19.362Z"
   },
   {
    "duration": 78,
    "start_time": "2022-05-01T15:38:28.545Z"
   },
   {
    "duration": 116,
    "start_time": "2022-05-01T15:40:59.852Z"
   },
   {
    "duration": 137,
    "start_time": "2022-05-01T15:41:07.959Z"
   },
   {
    "duration": 12,
    "start_time": "2022-05-01T15:45:16.357Z"
   },
   {
    "duration": 158,
    "start_time": "2022-05-01T15:45:55.652Z"
   },
   {
    "duration": 156,
    "start_time": "2022-05-01T15:49:07.604Z"
   },
   {
    "duration": 16,
    "start_time": "2022-05-01T15:55:28.259Z"
   },
   {
    "duration": 7,
    "start_time": "2022-05-01T16:10:42.054Z"
   },
   {
    "duration": 5,
    "start_time": "2022-05-01T16:12:48.959Z"
   },
   {
    "duration": 6,
    "start_time": "2022-05-01T16:18:11.073Z"
   },
   {
    "duration": 19,
    "start_time": "2022-05-01T16:18:52.660Z"
   },
   {
    "duration": 118,
    "start_time": "2022-05-01T16:24:11.097Z"
   },
   {
    "duration": 122,
    "start_time": "2022-05-01T16:25:02.940Z"
   },
   {
    "duration": 6,
    "start_time": "2022-05-01T16:25:13.550Z"
   },
   {
    "duration": 20,
    "start_time": "2022-05-01T16:26:40.108Z"
   },
   {
    "duration": 4,
    "start_time": "2022-05-01T16:40:02.447Z"
   },
   {
    "duration": 14,
    "start_time": "2022-05-01T16:43:07.046Z"
   },
   {
    "duration": 92,
    "start_time": "2022-05-01T16:45:10.915Z"
   },
   {
    "duration": 75,
    "start_time": "2022-05-02T15:06:00.433Z"
   },
   {
    "duration": 544,
    "start_time": "2022-05-02T15:06:25.986Z"
   },
   {
    "duration": 250,
    "start_time": "2022-05-02T15:06:26.533Z"
   },
   {
    "duration": 41,
    "start_time": "2022-05-02T15:06:26.786Z"
   },
   {
    "duration": 43,
    "start_time": "2022-05-02T15:06:26.829Z"
   },
   {
    "duration": 6,
    "start_time": "2022-05-02T15:06:26.875Z"
   },
   {
    "duration": 46,
    "start_time": "2022-05-02T15:06:26.884Z"
   },
   {
    "duration": 13,
    "start_time": "2022-05-02T15:06:26.933Z"
   },
   {
    "duration": 38,
    "start_time": "2022-05-02T15:06:26.948Z"
   },
   {
    "duration": 52,
    "start_time": "2022-05-02T15:06:26.988Z"
   },
   {
    "duration": 39,
    "start_time": "2022-05-02T15:06:27.042Z"
   },
   {
    "duration": 126,
    "start_time": "2022-05-02T15:06:27.083Z"
   },
   {
    "duration": 157,
    "start_time": "2022-05-02T15:06:27.211Z"
   },
   {
    "duration": 124,
    "start_time": "2022-05-02T15:06:27.370Z"
   },
   {
    "duration": 67,
    "start_time": "2022-05-02T15:06:27.499Z"
   },
   {
    "duration": 5,
    "start_time": "2022-05-02T15:06:27.568Z"
   },
   {
    "duration": 21,
    "start_time": "2022-05-02T15:06:27.575Z"
   },
   {
    "duration": 75,
    "start_time": "2022-05-02T15:06:27.599Z"
   },
   {
    "duration": 16,
    "start_time": "2022-05-02T15:06:27.676Z"
   },
   {
    "duration": 15,
    "start_time": "2022-05-02T15:06:34.568Z"
   },
   {
    "duration": 16,
    "start_time": "2022-05-02T15:06:39.402Z"
   },
   {
    "duration": 110,
    "start_time": "2022-05-02T15:15:19.226Z"
   },
   {
    "duration": 143,
    "start_time": "2022-05-02T15:15:32.696Z"
   },
   {
    "duration": 159,
    "start_time": "2022-05-02T15:16:02.596Z"
   },
   {
    "duration": 4,
    "start_time": "2022-05-02T15:23:24.657Z"
   },
   {
    "duration": 259,
    "start_time": "2022-05-02T15:23:24.665Z"
   },
   {
    "duration": 20,
    "start_time": "2022-05-02T15:23:24.928Z"
   },
   {
    "duration": 75,
    "start_time": "2022-05-02T15:23:24.951Z"
   },
   {
    "duration": 6,
    "start_time": "2022-05-02T15:23:25.030Z"
   },
   {
    "duration": 13,
    "start_time": "2022-05-02T15:23:25.038Z"
   },
   {
    "duration": 7,
    "start_time": "2022-05-02T15:23:25.054Z"
   },
   {
    "duration": 123,
    "start_time": "2022-05-02T15:23:25.063Z"
   },
   {
    "duration": 45,
    "start_time": "2022-05-02T15:23:25.190Z"
   },
   {
    "duration": 48,
    "start_time": "2022-05-02T15:23:25.238Z"
   },
   {
    "duration": 143,
    "start_time": "2022-05-02T15:23:25.291Z"
   },
   {
    "duration": 157,
    "start_time": "2022-05-02T15:23:25.438Z"
   },
   {
    "duration": 145,
    "start_time": "2022-05-02T15:23:25.597Z"
   },
   {
    "duration": 80,
    "start_time": "2022-05-02T15:23:25.744Z"
   },
   {
    "duration": 15,
    "start_time": "2022-05-02T15:23:25.827Z"
   },
   {
    "duration": 28,
    "start_time": "2022-05-02T15:23:25.844Z"
   },
   {
    "duration": 69,
    "start_time": "2022-05-02T15:23:25.874Z"
   },
   {
    "duration": 17,
    "start_time": "2022-05-02T15:23:25.946Z"
   },
   {
    "duration": 15,
    "start_time": "2022-05-02T15:23:25.966Z"
   },
   {
    "duration": 1644,
    "start_time": "2022-05-02T15:23:25.984Z"
   },
   {
    "duration": 0,
    "start_time": "2022-05-02T15:23:27.631Z"
   },
   {
    "duration": 0,
    "start_time": "2022-05-02T15:23:27.632Z"
   },
   {
    "duration": 0,
    "start_time": "2022-05-02T15:23:27.635Z"
   },
   {
    "duration": 0,
    "start_time": "2022-05-02T15:23:27.637Z"
   },
   {
    "duration": 0,
    "start_time": "2022-05-02T15:23:27.639Z"
   },
   {
    "duration": 101,
    "start_time": "2022-05-02T15:23:42.565Z"
   },
   {
    "duration": 275,
    "start_time": "2022-05-02T15:26:49.294Z"
   },
   {
    "duration": 104,
    "start_time": "2022-05-02T15:27:32.676Z"
   },
   {
    "duration": 105,
    "start_time": "2022-05-02T15:28:28.621Z"
   },
   {
    "duration": 5,
    "start_time": "2022-05-02T15:30:12.956Z"
   },
   {
    "duration": 31,
    "start_time": "2022-05-02T15:30:19.430Z"
   },
   {
    "duration": 25,
    "start_time": "2022-05-02T15:30:27.645Z"
   },
   {
    "duration": 39,
    "start_time": "2022-05-02T15:30:37.533Z"
   },
   {
    "duration": 30,
    "start_time": "2022-05-02T15:30:46.716Z"
   },
   {
    "duration": 32,
    "start_time": "2022-05-02T15:30:48.498Z"
   },
   {
    "duration": 44,
    "start_time": "2022-05-02T15:30:49.317Z"
   },
   {
    "duration": 11,
    "start_time": "2022-05-02T15:31:25.316Z"
   },
   {
    "duration": 25,
    "start_time": "2022-05-02T15:32:26.200Z"
   },
   {
    "duration": 70,
    "start_time": "2022-05-02T15:41:38.226Z"
   },
   {
    "duration": 8,
    "start_time": "2022-05-02T15:42:02.661Z"
   },
   {
    "duration": 11,
    "start_time": "2022-05-02T15:43:19.244Z"
   },
   {
    "duration": 236,
    "start_time": "2022-05-02T15:59:22.967Z"
   },
   {
    "duration": 10,
    "start_time": "2022-05-02T16:22:47.427Z"
   },
   {
    "duration": 469,
    "start_time": "2022-05-02T16:22:59.045Z"
   },
   {
    "duration": 217,
    "start_time": "2022-05-02T16:22:59.517Z"
   },
   {
    "duration": 25,
    "start_time": "2022-05-02T16:22:59.736Z"
   },
   {
    "duration": 61,
    "start_time": "2022-05-02T16:22:59.763Z"
   },
   {
    "duration": 6,
    "start_time": "2022-05-02T16:22:59.827Z"
   },
   {
    "duration": 14,
    "start_time": "2022-05-02T16:22:59.835Z"
   },
   {
    "duration": 42,
    "start_time": "2022-05-02T16:22:59.851Z"
   },
   {
    "duration": 34,
    "start_time": "2022-05-02T16:22:59.895Z"
   },
   {
    "duration": 26,
    "start_time": "2022-05-02T16:22:59.932Z"
   },
   {
    "duration": 53,
    "start_time": "2022-05-02T16:22:59.960Z"
   },
   {
    "duration": 114,
    "start_time": "2022-05-02T16:23:00.016Z"
   },
   {
    "duration": 197,
    "start_time": "2022-05-02T16:23:00.133Z"
   },
   {
    "duration": 160,
    "start_time": "2022-05-02T16:23:00.334Z"
   },
   {
    "duration": 59,
    "start_time": "2022-05-02T16:23:00.501Z"
   },
   {
    "duration": 4,
    "start_time": "2022-05-02T16:23:00.562Z"
   },
   {
    "duration": 35,
    "start_time": "2022-05-02T16:23:00.568Z"
   },
   {
    "duration": 79,
    "start_time": "2022-05-02T16:23:00.606Z"
   },
   {
    "duration": 15,
    "start_time": "2022-05-02T16:23:00.687Z"
   },
   {
    "duration": 63,
    "start_time": "2022-05-02T16:23:00.704Z"
   },
   {
    "duration": 17,
    "start_time": "2022-05-02T16:23:00.769Z"
   },
   {
    "duration": 49,
    "start_time": "2022-05-02T16:23:00.788Z"
   },
   {
    "duration": 25,
    "start_time": "2022-05-02T16:23:00.839Z"
   },
   {
    "duration": 43,
    "start_time": "2022-05-02T16:23:00.866Z"
   },
   {
    "duration": 24,
    "start_time": "2022-05-02T16:23:00.912Z"
   },
   {
    "duration": 56,
    "start_time": "2022-05-02T16:23:00.938Z"
   },
   {
    "duration": 25,
    "start_time": "2022-05-02T16:23:00.997Z"
   },
   {
    "duration": 44,
    "start_time": "2022-05-02T16:23:09.991Z"
   },
   {
    "duration": 13,
    "start_time": "2022-05-02T16:23:44.186Z"
   },
   {
    "duration": 11,
    "start_time": "2022-05-02T16:24:55.380Z"
   },
   {
    "duration": 6,
    "start_time": "2022-05-02T16:25:16.531Z"
   },
   {
    "duration": 11,
    "start_time": "2022-05-02T16:25:51.251Z"
   },
   {
    "duration": 259,
    "start_time": "2022-05-02T18:33:41.232Z"
   },
   {
    "duration": 89,
    "start_time": "2022-05-02T18:33:54.482Z"
   },
   {
    "duration": 615,
    "start_time": "2022-05-02T18:34:07.919Z"
   },
   {
    "duration": 246,
    "start_time": "2022-05-02T18:34:08.537Z"
   },
   {
    "duration": 39,
    "start_time": "2022-05-02T18:34:08.786Z"
   },
   {
    "duration": 39,
    "start_time": "2022-05-02T18:34:08.828Z"
   },
   {
    "duration": 31,
    "start_time": "2022-05-02T18:34:08.869Z"
   },
   {
    "duration": 25,
    "start_time": "2022-05-02T18:34:08.904Z"
   },
   {
    "duration": 10,
    "start_time": "2022-05-02T18:34:08.932Z"
   },
   {
    "duration": 69,
    "start_time": "2022-05-02T18:34:08.945Z"
   },
   {
    "duration": 27,
    "start_time": "2022-05-02T18:34:09.016Z"
   },
   {
    "duration": 68,
    "start_time": "2022-05-02T18:34:09.047Z"
   },
   {
    "duration": 125,
    "start_time": "2022-05-02T18:34:09.118Z"
   },
   {
    "duration": 173,
    "start_time": "2022-05-02T18:34:09.246Z"
   },
   {
    "duration": 117,
    "start_time": "2022-05-02T18:34:09.422Z"
   },
   {
    "duration": 76,
    "start_time": "2022-05-02T18:34:09.541Z"
   },
   {
    "duration": 4,
    "start_time": "2022-05-02T18:34:09.619Z"
   },
   {
    "duration": 17,
    "start_time": "2022-05-02T18:34:09.625Z"
   },
   {
    "duration": 86,
    "start_time": "2022-05-02T18:34:09.644Z"
   },
   {
    "duration": 16,
    "start_time": "2022-05-02T18:34:09.735Z"
   },
   {
    "duration": 43,
    "start_time": "2022-05-02T18:34:09.754Z"
   },
   {
    "duration": 7,
    "start_time": "2022-05-02T18:34:09.802Z"
   },
   {
    "duration": 47,
    "start_time": "2022-05-02T18:34:09.812Z"
   },
   {
    "duration": 23,
    "start_time": "2022-05-02T18:34:09.861Z"
   },
   {
    "duration": 30,
    "start_time": "2022-05-02T18:34:09.899Z"
   },
   {
    "duration": 23,
    "start_time": "2022-05-02T18:34:09.931Z"
   },
   {
    "duration": 28,
    "start_time": "2022-05-02T18:34:09.957Z"
   },
   {
    "duration": 27,
    "start_time": "2022-05-02T18:34:09.999Z"
   },
   {
    "duration": 19,
    "start_time": "2022-05-02T18:34:10.028Z"
   },
   {
    "duration": 4,
    "start_time": "2022-05-02T18:34:21.809Z"
   },
   {
    "duration": 316,
    "start_time": "2022-05-02T18:34:27.314Z"
   },
   {
    "duration": 4,
    "start_time": "2022-05-02T18:35:04.661Z"
   },
   {
    "duration": 4,
    "start_time": "2022-05-02T18:35:24.761Z"
   },
   {
    "duration": 40,
    "start_time": "2022-05-02T18:41:31.719Z"
   },
   {
    "duration": 11,
    "start_time": "2022-05-02T18:41:48.352Z"
   },
   {
    "duration": 11,
    "start_time": "2022-05-02T18:44:11.267Z"
   },
   {
    "duration": 12,
    "start_time": "2022-05-02T18:48:53.544Z"
   },
   {
    "duration": 12,
    "start_time": "2022-05-02T18:49:03.509Z"
   },
   {
    "duration": 4,
    "start_time": "2022-05-02T18:49:17.363Z"
   },
   {
    "duration": 235,
    "start_time": "2022-05-02T18:49:17.370Z"
   },
   {
    "duration": 16,
    "start_time": "2022-05-02T18:49:17.609Z"
   },
   {
    "duration": 83,
    "start_time": "2022-05-02T18:49:17.628Z"
   },
   {
    "duration": 6,
    "start_time": "2022-05-02T18:49:17.714Z"
   },
   {
    "duration": 21,
    "start_time": "2022-05-02T18:49:17.722Z"
   },
   {
    "duration": 10,
    "start_time": "2022-05-02T18:49:17.745Z"
   },
   {
    "duration": 61,
    "start_time": "2022-05-02T18:49:17.757Z"
   },
   {
    "duration": 27,
    "start_time": "2022-05-02T18:49:17.821Z"
   },
   {
    "duration": 69,
    "start_time": "2022-05-02T18:49:17.850Z"
   },
   {
    "duration": 123,
    "start_time": "2022-05-02T18:49:17.927Z"
   },
   {
    "duration": 137,
    "start_time": "2022-05-02T18:49:18.052Z"
   },
   {
    "duration": 114,
    "start_time": "2022-05-02T18:49:18.191Z"
   },
   {
    "duration": 102,
    "start_time": "2022-05-02T18:49:18.308Z"
   },
   {
    "duration": 5,
    "start_time": "2022-05-02T18:49:18.412Z"
   },
   {
    "duration": 17,
    "start_time": "2022-05-02T18:49:18.419Z"
   },
   {
    "duration": 91,
    "start_time": "2022-05-02T18:49:18.438Z"
   },
   {
    "duration": 18,
    "start_time": "2022-05-02T18:49:18.531Z"
   },
   {
    "duration": 14,
    "start_time": "2022-05-02T18:49:18.551Z"
   },
   {
    "duration": 34,
    "start_time": "2022-05-02T18:49:18.566Z"
   },
   {
    "duration": 68,
    "start_time": "2022-05-02T18:49:18.603Z"
   },
   {
    "duration": 47,
    "start_time": "2022-05-02T18:49:18.673Z"
   },
   {
    "duration": 30,
    "start_time": "2022-05-02T18:49:18.722Z"
   },
   {
    "duration": 58,
    "start_time": "2022-05-02T18:49:18.754Z"
   },
   {
    "duration": 35,
    "start_time": "2022-05-02T18:49:18.814Z"
   },
   {
    "duration": 66,
    "start_time": "2022-05-02T18:49:18.851Z"
   },
   {
    "duration": 13,
    "start_time": "2022-05-02T18:49:18.920Z"
   },
   {
    "duration": 35,
    "start_time": "2022-05-02T18:49:18.935Z"
   },
   {
    "duration": 26,
    "start_time": "2022-05-02T18:49:44.305Z"
   },
   {
    "duration": 9,
    "start_time": "2022-05-02T19:12:49.024Z"
   },
   {
    "duration": 6,
    "start_time": "2022-05-02T19:13:51.637Z"
   },
   {
    "duration": 6,
    "start_time": "2022-05-02T19:14:01.561Z"
   },
   {
    "duration": 27,
    "start_time": "2022-05-02T19:14:05.413Z"
   },
   {
    "duration": 21,
    "start_time": "2022-05-02T19:16:08.213Z"
   },
   {
    "duration": 22,
    "start_time": "2022-05-02T19:17:36.623Z"
   },
   {
    "duration": 17,
    "start_time": "2022-05-02T19:19:03.018Z"
   },
   {
    "duration": 9,
    "start_time": "2022-05-02T19:35:32.135Z"
   },
   {
    "duration": 11,
    "start_time": "2022-05-02T19:36:50.751Z"
   },
   {
    "duration": 12,
    "start_time": "2022-05-02T19:37:12.233Z"
   },
   {
    "duration": 4,
    "start_time": "2022-05-02T19:38:08.733Z"
   },
   {
    "duration": 229,
    "start_time": "2022-05-02T19:38:08.740Z"
   },
   {
    "duration": 28,
    "start_time": "2022-05-02T19:38:08.971Z"
   },
   {
    "duration": 59,
    "start_time": "2022-05-02T19:38:09.002Z"
   },
   {
    "duration": 5,
    "start_time": "2022-05-02T19:38:09.064Z"
   },
   {
    "duration": 32,
    "start_time": "2022-05-02T19:38:09.071Z"
   },
   {
    "duration": 8,
    "start_time": "2022-05-02T19:38:09.106Z"
   },
   {
    "duration": 76,
    "start_time": "2022-05-02T19:38:09.117Z"
   },
   {
    "duration": 35,
    "start_time": "2022-05-02T19:38:09.196Z"
   },
   {
    "duration": 44,
    "start_time": "2022-05-02T19:38:09.233Z"
   },
   {
    "duration": 130,
    "start_time": "2022-05-02T19:38:09.297Z"
   },
   {
    "duration": 137,
    "start_time": "2022-05-02T19:38:09.429Z"
   },
   {
    "duration": 108,
    "start_time": "2022-05-02T19:38:09.568Z"
   },
   {
    "duration": 79,
    "start_time": "2022-05-02T19:38:09.678Z"
   },
   {
    "duration": 3,
    "start_time": "2022-05-02T19:38:09.759Z"
   },
   {
    "duration": 17,
    "start_time": "2022-05-02T19:38:09.764Z"
   },
   {
    "duration": 100,
    "start_time": "2022-05-02T19:38:09.792Z"
   },
   {
    "duration": 22,
    "start_time": "2022-05-02T19:38:09.895Z"
   },
   {
    "duration": 21,
    "start_time": "2022-05-02T19:38:09.920Z"
   },
   {
    "duration": 6,
    "start_time": "2022-05-02T19:38:09.944Z"
   },
   {
    "duration": 54,
    "start_time": "2022-05-02T19:38:09.992Z"
   },
   {
    "duration": 22,
    "start_time": "2022-05-02T19:38:10.048Z"
   },
   {
    "duration": 40,
    "start_time": "2022-05-02T19:38:10.072Z"
   },
   {
    "duration": 23,
    "start_time": "2022-05-02T19:38:10.115Z"
   },
   {
    "duration": 31,
    "start_time": "2022-05-02T19:38:10.140Z"
   },
   {
    "duration": 47,
    "start_time": "2022-05-02T19:38:10.174Z"
   },
   {
    "duration": 13,
    "start_time": "2022-05-02T19:38:10.224Z"
   },
   {
    "duration": 31,
    "start_time": "2022-05-02T19:38:10.239Z"
   },
   {
    "duration": 32,
    "start_time": "2022-05-02T19:38:10.274Z"
   },
   {
    "duration": 9,
    "start_time": "2022-05-02T19:38:10.309Z"
   },
   {
    "duration": 30,
    "start_time": "2022-05-02T19:38:10.321Z"
   },
   {
    "duration": 15,
    "start_time": "2022-05-02T19:38:10.353Z"
   },
   {
    "duration": 28,
    "start_time": "2022-05-02T19:38:10.370Z"
   },
   {
    "duration": 22,
    "start_time": "2022-05-02T19:38:10.401Z"
   },
   {
    "duration": 12,
    "start_time": "2022-05-02T19:38:18.322Z"
   },
   {
    "duration": 19,
    "start_time": "2022-05-02T19:49:41.692Z"
   },
   {
    "duration": 8,
    "start_time": "2022-05-02T19:49:48.374Z"
   },
   {
    "duration": 4,
    "start_time": "2022-05-02T19:52:43.763Z"
   },
   {
    "duration": 300,
    "start_time": "2022-05-02T19:52:43.770Z"
   },
   {
    "duration": 31,
    "start_time": "2022-05-02T19:52:44.074Z"
   },
   {
    "duration": 40,
    "start_time": "2022-05-02T19:52:44.107Z"
   },
   {
    "duration": 6,
    "start_time": "2022-05-02T19:52:44.150Z"
   },
   {
    "duration": 9,
    "start_time": "2022-05-02T19:52:44.193Z"
   },
   {
    "duration": 17,
    "start_time": "2022-05-02T19:52:44.204Z"
   },
   {
    "duration": 87,
    "start_time": "2022-05-02T19:52:44.223Z"
   },
   {
    "duration": 30,
    "start_time": "2022-05-02T19:52:44.311Z"
   },
   {
    "duration": 58,
    "start_time": "2022-05-02T19:52:44.343Z"
   },
   {
    "duration": 118,
    "start_time": "2022-05-02T19:52:44.408Z"
   },
   {
    "duration": 136,
    "start_time": "2022-05-02T19:52:44.528Z"
   },
   {
    "duration": 102,
    "start_time": "2022-05-02T19:52:44.666Z"
   },
   {
    "duration": 81,
    "start_time": "2022-05-02T19:52:44.770Z"
   },
   {
    "duration": 5,
    "start_time": "2022-05-02T19:52:44.853Z"
   },
   {
    "duration": 42,
    "start_time": "2022-05-02T19:52:44.861Z"
   },
   {
    "duration": 59,
    "start_time": "2022-05-02T19:52:44.906Z"
   },
   {
    "duration": 39,
    "start_time": "2022-05-02T19:52:44.967Z"
   },
   {
    "duration": 32,
    "start_time": "2022-05-02T19:52:45.008Z"
   },
   {
    "duration": 9,
    "start_time": "2022-05-02T19:52:45.042Z"
   },
   {
    "duration": 59,
    "start_time": "2022-05-02T19:52:45.053Z"
   },
   {
    "duration": 27,
    "start_time": "2022-05-02T19:52:45.114Z"
   },
   {
    "duration": 63,
    "start_time": "2022-05-02T19:52:45.145Z"
   },
   {
    "duration": 28,
    "start_time": "2022-05-02T19:52:45.210Z"
   },
   {
    "duration": 73,
    "start_time": "2022-05-02T19:52:45.240Z"
   },
   {
    "duration": 40,
    "start_time": "2022-05-02T19:52:45.316Z"
   },
   {
    "duration": 39,
    "start_time": "2022-05-02T19:52:45.359Z"
   },
   {
    "duration": 49,
    "start_time": "2022-05-02T19:52:45.400Z"
   },
   {
    "duration": 53,
    "start_time": "2022-05-02T19:52:45.455Z"
   },
   {
    "duration": 6,
    "start_time": "2022-05-02T19:52:45.511Z"
   },
   {
    "duration": 31,
    "start_time": "2022-05-02T19:52:45.520Z"
   },
   {
    "duration": 46,
    "start_time": "2022-05-02T19:52:45.553Z"
   },
   {
    "duration": 23,
    "start_time": "2022-05-02T19:52:45.601Z"
   },
   {
    "duration": 16,
    "start_time": "2022-05-02T19:52:45.626Z"
   },
   {
    "duration": 49,
    "start_time": "2022-05-02T19:52:45.644Z"
   },
   {
    "duration": 7,
    "start_time": "2022-05-02T19:52:45.695Z"
   },
   {
    "duration": 13,
    "start_time": "2022-05-02T19:55:34.626Z"
   },
   {
    "duration": 4,
    "start_time": "2022-05-02T19:56:42.772Z"
   },
   {
    "duration": 202,
    "start_time": "2022-05-02T19:56:42.779Z"
   },
   {
    "duration": 16,
    "start_time": "2022-05-02T19:56:42.983Z"
   },
   {
    "duration": 40,
    "start_time": "2022-05-02T19:56:43.002Z"
   },
   {
    "duration": 6,
    "start_time": "2022-05-02T19:56:43.044Z"
   },
   {
    "duration": 47,
    "start_time": "2022-05-02T19:56:43.053Z"
   },
   {
    "duration": 11,
    "start_time": "2022-05-02T19:56:43.102Z"
   },
   {
    "duration": 36,
    "start_time": "2022-05-02T19:56:43.115Z"
   },
   {
    "duration": 57,
    "start_time": "2022-05-02T19:56:43.155Z"
   },
   {
    "duration": 32,
    "start_time": "2022-05-02T19:56:43.214Z"
   },
   {
    "duration": 119,
    "start_time": "2022-05-02T19:56:43.248Z"
   },
   {
    "duration": 127,
    "start_time": "2022-05-02T19:56:43.369Z"
   },
   {
    "duration": 98,
    "start_time": "2022-05-02T19:56:43.498Z"
   },
   {
    "duration": 60,
    "start_time": "2022-05-02T19:56:43.598Z"
   },
   {
    "duration": 5,
    "start_time": "2022-05-02T19:56:43.661Z"
   },
   {
    "duration": 41,
    "start_time": "2022-05-02T19:56:43.668Z"
   },
   {
    "duration": 53,
    "start_time": "2022-05-02T19:56:43.711Z"
   },
   {
    "duration": 40,
    "start_time": "2022-05-02T19:56:43.766Z"
   },
   {
    "duration": 18,
    "start_time": "2022-05-02T19:56:43.809Z"
   },
   {
    "duration": 5,
    "start_time": "2022-05-02T19:56:43.829Z"
   },
   {
    "duration": 77,
    "start_time": "2022-05-02T19:56:43.836Z"
   },
   {
    "duration": 23,
    "start_time": "2022-05-02T19:56:43.915Z"
   },
   {
    "duration": 53,
    "start_time": "2022-05-02T19:56:43.940Z"
   },
   {
    "duration": 22,
    "start_time": "2022-05-02T19:56:43.998Z"
   },
   {
    "duration": 27,
    "start_time": "2022-05-02T19:56:44.022Z"
   },
   {
    "duration": 56,
    "start_time": "2022-05-02T19:56:44.051Z"
   },
   {
    "duration": 11,
    "start_time": "2022-05-02T19:56:44.109Z"
   },
   {
    "duration": 34,
    "start_time": "2022-05-02T19:56:44.122Z"
   },
   {
    "duration": 51,
    "start_time": "2022-05-02T19:56:44.158Z"
   },
   {
    "duration": 6,
    "start_time": "2022-05-02T19:56:44.211Z"
   },
   {
    "duration": 28,
    "start_time": "2022-05-02T19:56:44.219Z"
   },
   {
    "duration": 50,
    "start_time": "2022-05-02T19:56:44.249Z"
   },
   {
    "duration": 23,
    "start_time": "2022-05-02T19:56:44.302Z"
   },
   {
    "duration": 14,
    "start_time": "2022-05-02T19:56:44.327Z"
   },
   {
    "duration": 52,
    "start_time": "2022-05-02T19:56:44.343Z"
   },
   {
    "duration": 6,
    "start_time": "2022-05-02T19:56:44.397Z"
   },
   {
    "duration": 13,
    "start_time": "2022-05-02T19:56:49.261Z"
   },
   {
    "duration": 8,
    "start_time": "2022-05-02T19:57:05.378Z"
   },
   {
    "duration": 7,
    "start_time": "2022-05-02T19:57:08.830Z"
   },
   {
    "duration": 68,
    "start_time": "2022-05-06T11:39:03.417Z"
   },
   {
    "duration": 9,
    "start_time": "2022-05-06T11:39:14.420Z"
   },
   {
    "duration": 433,
    "start_time": "2022-05-06T11:39:23.099Z"
   },
   {
    "duration": 165,
    "start_time": "2022-05-06T11:39:23.535Z"
   },
   {
    "duration": 20,
    "start_time": "2022-05-06T11:39:23.702Z"
   },
   {
    "duration": 33,
    "start_time": "2022-05-06T11:39:23.730Z"
   },
   {
    "duration": 4,
    "start_time": "2022-05-06T11:39:23.764Z"
   },
   {
    "duration": 12,
    "start_time": "2022-05-06T11:39:23.770Z"
   },
   {
    "duration": 33,
    "start_time": "2022-05-06T11:39:23.784Z"
   },
   {
    "duration": 34,
    "start_time": "2022-05-06T11:39:23.821Z"
   },
   {
    "duration": 22,
    "start_time": "2022-05-06T11:39:23.856Z"
   },
   {
    "duration": 53,
    "start_time": "2022-05-06T11:39:23.880Z"
   },
   {
    "duration": 100,
    "start_time": "2022-05-06T11:39:23.936Z"
   },
   {
    "duration": 101,
    "start_time": "2022-05-06T11:39:24.038Z"
   },
   {
    "duration": 28,
    "start_time": "2022-05-06T11:39:41.940Z"
   },
   {
    "duration": 3,
    "start_time": "2022-05-06T11:39:46.890Z"
   },
   {
    "duration": 218,
    "start_time": "2022-05-06T11:39:46.896Z"
   },
   {
    "duration": 20,
    "start_time": "2022-05-06T11:39:47.121Z"
   },
   {
    "duration": 43,
    "start_time": "2022-05-06T11:39:47.144Z"
   },
   {
    "duration": 18,
    "start_time": "2022-05-06T11:39:47.189Z"
   },
   {
    "duration": 50,
    "start_time": "2022-05-06T11:39:47.209Z"
   },
   {
    "duration": 13,
    "start_time": "2022-05-06T11:39:47.261Z"
   },
   {
    "duration": 44,
    "start_time": "2022-05-06T11:39:47.275Z"
   },
   {
    "duration": 33,
    "start_time": "2022-05-06T11:39:47.324Z"
   },
   {
    "duration": 72,
    "start_time": "2022-05-06T11:39:47.359Z"
   },
   {
    "duration": 110,
    "start_time": "2022-05-06T11:39:47.433Z"
   },
   {
    "duration": 8,
    "start_time": "2022-05-06T11:39:47.545Z"
   },
   {
    "duration": 96,
    "start_time": "2022-05-06T11:39:57.145Z"
   },
   {
    "duration": 8,
    "start_time": "2022-05-06T11:44:07.097Z"
   },
   {
    "duration": 81,
    "start_time": "2022-05-06T11:44:15.886Z"
   },
   {
    "duration": 95,
    "start_time": "2022-05-06T11:46:57.087Z"
   },
   {
    "duration": 86,
    "start_time": "2022-05-06T11:47:14.208Z"
   },
   {
    "duration": 83,
    "start_time": "2022-05-06T11:48:34.218Z"
   },
   {
    "duration": 9,
    "start_time": "2022-05-06T11:48:50.679Z"
   },
   {
    "duration": 85,
    "start_time": "2022-05-06T11:48:57.134Z"
   },
   {
    "duration": 8,
    "start_time": "2022-05-06T11:50:26.161Z"
   },
   {
    "duration": 2,
    "start_time": "2022-05-06T11:50:34.560Z"
   },
   {
    "duration": 191,
    "start_time": "2022-05-06T11:50:34.564Z"
   },
   {
    "duration": 11,
    "start_time": "2022-05-06T11:50:34.757Z"
   },
   {
    "duration": 71,
    "start_time": "2022-05-06T11:50:34.770Z"
   },
   {
    "duration": 5,
    "start_time": "2022-05-06T11:50:34.845Z"
   },
   {
    "duration": 17,
    "start_time": "2022-05-06T11:50:34.851Z"
   },
   {
    "duration": 7,
    "start_time": "2022-05-06T11:50:34.870Z"
   },
   {
    "duration": 62,
    "start_time": "2022-05-06T11:50:34.879Z"
   },
   {
    "duration": 48,
    "start_time": "2022-05-06T11:50:34.944Z"
   },
   {
    "duration": 43,
    "start_time": "2022-05-06T11:50:34.995Z"
   },
   {
    "duration": 79,
    "start_time": "2022-05-06T11:50:35.041Z"
   },
   {
    "duration": 100,
    "start_time": "2022-05-06T11:50:35.123Z"
   },
   {
    "duration": 16,
    "start_time": "2022-05-06T11:50:35.225Z"
   },
   {
    "duration": 84,
    "start_time": "2022-05-06T11:50:54.918Z"
   },
   {
    "duration": 79,
    "start_time": "2022-05-06T11:51:02.434Z"
   },
   {
    "duration": 61,
    "start_time": "2022-05-06T11:51:48.126Z"
   },
   {
    "duration": 412,
    "start_time": "2022-05-06T16:02:33.571Z"
   },
   {
    "duration": 159,
    "start_time": "2022-05-06T16:02:33.985Z"
   },
   {
    "duration": 23,
    "start_time": "2022-05-06T16:02:34.146Z"
   },
   {
    "duration": 32,
    "start_time": "2022-05-06T16:02:34.171Z"
   },
   {
    "duration": 5,
    "start_time": "2022-05-06T16:02:34.204Z"
   },
   {
    "duration": 28,
    "start_time": "2022-05-06T16:02:34.210Z"
   },
   {
    "duration": 15,
    "start_time": "2022-05-06T16:02:34.240Z"
   },
   {
    "duration": 31,
    "start_time": "2022-05-06T16:02:34.258Z"
   },
   {
    "duration": 20,
    "start_time": "2022-05-06T16:02:34.291Z"
   },
   {
    "duration": 54,
    "start_time": "2022-05-06T16:02:34.314Z"
   },
   {
    "duration": 4,
    "start_time": "2022-05-06T16:02:58.219Z"
   },
   {
    "duration": 101,
    "start_time": "2022-05-06T16:03:06.129Z"
   },
   {
    "duration": 4,
    "start_time": "2022-05-06T16:03:17.853Z"
   },
   {
    "duration": 64,
    "start_time": "2022-05-06T16:03:24.324Z"
   },
   {
    "duration": 439,
    "start_time": "2022-05-06T16:04:51.629Z"
   },
   {
    "duration": 157,
    "start_time": "2022-05-06T16:04:52.070Z"
   },
   {
    "duration": 18,
    "start_time": "2022-05-06T16:04:52.228Z"
   },
   {
    "duration": 31,
    "start_time": "2022-05-06T16:04:52.254Z"
   },
   {
    "duration": 4,
    "start_time": "2022-05-06T16:04:52.287Z"
   },
   {
    "duration": 25,
    "start_time": "2022-05-06T16:04:52.293Z"
   },
   {
    "duration": 18,
    "start_time": "2022-05-06T16:04:52.320Z"
   },
   {
    "duration": 33,
    "start_time": "2022-05-06T16:04:52.340Z"
   },
   {
    "duration": 22,
    "start_time": "2022-05-06T16:04:52.375Z"
   },
   {
    "duration": 26,
    "start_time": "2022-05-06T16:04:52.400Z"
   },
   {
    "duration": 87,
    "start_time": "2022-05-06T16:04:52.427Z"
   },
   {
    "duration": 99,
    "start_time": "2022-05-06T16:04:52.516Z"
   },
   {
    "duration": 81,
    "start_time": "2022-05-06T16:04:52.616Z"
   },
   {
    "duration": 43,
    "start_time": "2022-05-06T16:04:52.699Z"
   },
   {
    "duration": 12,
    "start_time": "2022-05-06T16:04:52.744Z"
   },
   {
    "duration": 17,
    "start_time": "2022-05-06T16:04:52.758Z"
   },
   {
    "duration": 44,
    "start_time": "2022-05-06T16:04:52.777Z"
   },
   {
    "duration": 12,
    "start_time": "2022-05-06T16:04:52.823Z"
   },
   {
    "duration": 12,
    "start_time": "2022-05-06T16:04:52.855Z"
   },
   {
    "duration": 5,
    "start_time": "2022-05-06T16:04:52.869Z"
   },
   {
    "duration": 32,
    "start_time": "2022-05-06T16:04:52.875Z"
   },
   {
    "duration": 18,
    "start_time": "2022-05-06T16:04:52.909Z"
   },
   {
    "duration": 40,
    "start_time": "2022-05-06T16:04:52.929Z"
   },
   {
    "duration": 19,
    "start_time": "2022-05-06T16:04:52.970Z"
   },
   {
    "duration": 25,
    "start_time": "2022-05-06T16:04:52.991Z"
   },
   {
    "duration": 46,
    "start_time": "2022-05-06T16:04:53.018Z"
   },
   {
    "duration": 9,
    "start_time": "2022-05-06T16:04:53.065Z"
   },
   {
    "duration": 30,
    "start_time": "2022-05-06T16:04:53.078Z"
   },
   {
    "duration": 18,
    "start_time": "2022-05-06T16:04:53.110Z"
   },
   {
    "duration": 25,
    "start_time": "2022-05-06T16:04:53.130Z"
   },
   {
    "duration": 22,
    "start_time": "2022-05-06T16:04:53.157Z"
   },
   {
    "duration": 13,
    "start_time": "2022-05-06T16:04:53.181Z"
   },
   {
    "duration": 17,
    "start_time": "2022-05-06T16:04:53.196Z"
   },
   {
    "duration": 44,
    "start_time": "2022-05-06T16:04:53.214Z"
   },
   {
    "duration": 9,
    "start_time": "2022-05-06T16:04:53.260Z"
   },
   {
    "duration": 19,
    "start_time": "2022-05-06T16:04:53.270Z"
   },
   {
    "duration": 12,
    "start_time": "2022-05-06T16:04:53.291Z"
   },
   {
    "duration": 20,
    "start_time": "2022-05-06T16:04:53.305Z"
   },
   {
    "duration": 160,
    "start_time": "2022-05-06T16:04:53.327Z"
   },
   {
    "duration": 4,
    "start_time": "2022-05-06T16:05:03.369Z"
   },
   {
    "duration": 64,
    "start_time": "2022-05-06T16:06:13.799Z"
   },
   {
    "duration": 4,
    "start_time": "2022-05-06T16:06:18.356Z"
   },
   {
    "duration": 60,
    "start_time": "2022-05-06T16:45:33.988Z"
   },
   {
    "duration": 8,
    "start_time": "2022-05-06T16:46:18.856Z"
   },
   {
    "duration": 393,
    "start_time": "2022-05-06T16:46:27.452Z"
   },
   {
    "duration": 172,
    "start_time": "2022-05-06T16:46:27.847Z"
   },
   {
    "duration": 19,
    "start_time": "2022-05-06T16:46:28.021Z"
   },
   {
    "duration": 31,
    "start_time": "2022-05-06T16:46:28.042Z"
   },
   {
    "duration": 4,
    "start_time": "2022-05-06T16:46:28.075Z"
   },
   {
    "duration": 37,
    "start_time": "2022-05-06T16:46:28.081Z"
   },
   {
    "duration": 7,
    "start_time": "2022-05-06T16:46:28.120Z"
   },
   {
    "duration": 26,
    "start_time": "2022-05-06T16:46:28.128Z"
   },
   {
    "duration": 22,
    "start_time": "2022-05-06T16:46:28.156Z"
   },
   {
    "duration": 56,
    "start_time": "2022-05-06T16:46:28.180Z"
   },
   {
    "duration": 103,
    "start_time": "2022-05-06T16:46:28.238Z"
   },
   {
    "duration": 103,
    "start_time": "2022-05-06T16:46:28.343Z"
   },
   {
    "duration": 4,
    "start_time": "2022-05-06T16:47:51.137Z"
   },
   {
    "duration": 13,
    "start_time": "2022-05-06T16:48:40.305Z"
   },
   {
    "duration": 3,
    "start_time": "2022-05-06T16:48:55.211Z"
   },
   {
    "duration": 170,
    "start_time": "2022-05-06T16:48:55.218Z"
   },
   {
    "duration": 10,
    "start_time": "2022-05-06T16:48:55.390Z"
   },
   {
    "duration": 40,
    "start_time": "2022-05-06T16:48:55.406Z"
   },
   {
    "duration": 4,
    "start_time": "2022-05-06T16:48:55.448Z"
   },
   {
    "duration": 12,
    "start_time": "2022-05-06T16:48:55.453Z"
   },
   {
    "duration": 6,
    "start_time": "2022-05-06T16:48:55.466Z"
   },
   {
    "duration": 65,
    "start_time": "2022-05-06T16:48:55.474Z"
   },
   {
    "duration": 23,
    "start_time": "2022-05-06T16:48:55.540Z"
   },
   {
    "duration": 25,
    "start_time": "2022-05-06T16:48:55.565Z"
   },
   {
    "duration": 71,
    "start_time": "2022-05-06T16:48:55.607Z"
   },
   {
    "duration": 4,
    "start_time": "2022-05-06T16:48:55.680Z"
   },
   {
    "duration": 108,
    "start_time": "2022-05-06T16:48:55.685Z"
   },
   {
    "duration": 3,
    "start_time": "2022-05-06T16:48:55.795Z"
   },
   {
    "duration": 63,
    "start_time": "2022-05-06T16:50:07.649Z"
   },
   {
    "duration": 2,
    "start_time": "2022-05-06T16:50:20.850Z"
   },
   {
    "duration": 182,
    "start_time": "2022-05-06T16:50:20.854Z"
   },
   {
    "duration": 12,
    "start_time": "2022-05-06T16:50:21.038Z"
   },
   {
    "duration": 33,
    "start_time": "2022-05-06T16:50:21.051Z"
   },
   {
    "duration": 29,
    "start_time": "2022-05-06T16:50:21.086Z"
   },
   {
    "duration": 8,
    "start_time": "2022-05-06T16:50:21.123Z"
   },
   {
    "duration": 5,
    "start_time": "2022-05-06T16:50:21.133Z"
   },
   {
    "duration": 28,
    "start_time": "2022-05-06T16:50:21.140Z"
   },
   {
    "duration": 45,
    "start_time": "2022-05-06T16:50:21.170Z"
   },
   {
    "duration": 27,
    "start_time": "2022-05-06T16:50:21.217Z"
   },
   {
    "duration": 83,
    "start_time": "2022-05-06T16:50:21.247Z"
   },
   {
    "duration": 3,
    "start_time": "2022-05-06T16:50:21.332Z"
   },
   {
    "duration": 102,
    "start_time": "2022-05-06T16:50:21.337Z"
   },
   {
    "duration": 74,
    "start_time": "2022-05-06T16:50:21.441Z"
   },
   {
    "duration": 111,
    "start_time": "2022-05-06T16:50:52.672Z"
   },
   {
    "duration": 3,
    "start_time": "2022-05-06T16:51:25.928Z"
   },
   {
    "duration": 4,
    "start_time": "2022-05-06T16:52:30.887Z"
   },
   {
    "duration": 3,
    "start_time": "2022-05-06T16:52:58.849Z"
   },
   {
    "duration": 192,
    "start_time": "2022-05-06T16:52:58.854Z"
   },
   {
    "duration": 10,
    "start_time": "2022-05-06T16:52:59.048Z"
   },
   {
    "duration": 31,
    "start_time": "2022-05-06T16:52:59.060Z"
   },
   {
    "duration": 15,
    "start_time": "2022-05-06T16:52:59.094Z"
   },
   {
    "duration": 9,
    "start_time": "2022-05-06T16:52:59.111Z"
   },
   {
    "duration": 7,
    "start_time": "2022-05-06T16:52:59.122Z"
   },
   {
    "duration": 34,
    "start_time": "2022-05-06T16:52:59.131Z"
   },
   {
    "duration": 59,
    "start_time": "2022-05-06T16:52:59.167Z"
   },
   {
    "duration": 37,
    "start_time": "2022-05-06T16:52:59.229Z"
   },
   {
    "duration": 96,
    "start_time": "2022-05-06T16:52:59.269Z"
   },
   {
    "duration": 4,
    "start_time": "2022-05-06T16:55:23.151Z"
   },
   {
    "duration": 93,
    "start_time": "2022-05-06T16:55:29.659Z"
   },
   {
    "duration": 4,
    "start_time": "2022-05-06T16:55:43.099Z"
   },
   {
    "duration": 3,
    "start_time": "2022-05-06T16:57:34.954Z"
   },
   {
    "duration": 182,
    "start_time": "2022-05-06T16:57:34.959Z"
   },
   {
    "duration": 11,
    "start_time": "2022-05-06T16:57:35.143Z"
   },
   {
    "duration": 39,
    "start_time": "2022-05-06T16:57:35.156Z"
   },
   {
    "duration": 15,
    "start_time": "2022-05-06T16:57:35.197Z"
   },
   {
    "duration": 8,
    "start_time": "2022-05-06T16:57:35.213Z"
   },
   {
    "duration": 19,
    "start_time": "2022-05-06T16:57:35.223Z"
   },
   {
    "duration": 45,
    "start_time": "2022-05-06T16:57:35.244Z"
   },
   {
    "duration": 35,
    "start_time": "2022-05-06T16:57:35.292Z"
   },
   {
    "duration": 30,
    "start_time": "2022-05-06T16:57:35.331Z"
   },
   {
    "duration": 83,
    "start_time": "2022-05-06T16:57:35.363Z"
   },
   {
    "duration": 4,
    "start_time": "2022-05-06T16:57:35.448Z"
   },
   {
    "duration": 116,
    "start_time": "2022-05-06T16:57:35.454Z"
   },
   {
    "duration": 4,
    "start_time": "2022-05-06T16:57:52.189Z"
   },
   {
    "duration": 74,
    "start_time": "2022-05-06T16:58:31.377Z"
   },
   {
    "duration": 4,
    "start_time": "2022-05-06T17:01:38.887Z"
   },
   {
    "duration": 3,
    "start_time": "2022-05-06T17:01:45.853Z"
   },
   {
    "duration": 108,
    "start_time": "2022-05-06T17:02:01.926Z"
   },
   {
    "duration": 4,
    "start_time": "2022-05-06T17:02:14.263Z"
   },
   {
    "duration": 68,
    "start_time": "2022-05-06T17:02:15.359Z"
   },
   {
    "duration": 81,
    "start_time": "2022-05-06T17:02:36.973Z"
   },
   {
    "duration": 3,
    "start_time": "2022-05-06T17:02:47.689Z"
   },
   {
    "duration": 66,
    "start_time": "2022-05-06T17:03:04.751Z"
   },
   {
    "duration": 81,
    "start_time": "2022-05-06T17:03:37.996Z"
   },
   {
    "duration": 3,
    "start_time": "2022-05-06T17:04:23.153Z"
   },
   {
    "duration": 199,
    "start_time": "2022-05-06T17:04:23.158Z"
   },
   {
    "duration": 11,
    "start_time": "2022-05-06T17:04:23.359Z"
   },
   {
    "duration": 69,
    "start_time": "2022-05-06T17:04:23.372Z"
   },
   {
    "duration": 4,
    "start_time": "2022-05-06T17:04:23.444Z"
   },
   {
    "duration": 8,
    "start_time": "2022-05-06T17:04:23.451Z"
   },
   {
    "duration": 4,
    "start_time": "2022-05-06T17:04:23.461Z"
   },
   {
    "duration": 64,
    "start_time": "2022-05-06T17:04:23.466Z"
   },
   {
    "duration": 22,
    "start_time": "2022-05-06T17:04:23.532Z"
   },
   {
    "duration": 27,
    "start_time": "2022-05-06T17:04:23.556Z"
   },
   {
    "duration": 94,
    "start_time": "2022-05-06T17:04:23.586Z"
   },
   {
    "duration": 4,
    "start_time": "2022-05-06T17:04:23.682Z"
   },
   {
    "duration": 106,
    "start_time": "2022-05-06T17:04:23.688Z"
   },
   {
    "duration": 17,
    "start_time": "2022-05-06T17:04:23.796Z"
   },
   {
    "duration": 69,
    "start_time": "2022-05-06T17:04:23.815Z"
   },
   {
    "duration": 83,
    "start_time": "2022-05-06T17:04:23.886Z"
   },
   {
    "duration": 4,
    "start_time": "2022-05-06T17:04:23.972Z"
   },
   {
    "duration": 15,
    "start_time": "2022-05-06T17:04:23.977Z"
   },
   {
    "duration": 68,
    "start_time": "2022-05-06T17:04:23.994Z"
   },
   {
    "duration": 12,
    "start_time": "2022-05-06T17:04:24.064Z"
   },
   {
    "duration": 31,
    "start_time": "2022-05-06T17:04:24.078Z"
   },
   {
    "duration": 9,
    "start_time": "2022-05-06T17:04:24.113Z"
   },
   {
    "duration": 27,
    "start_time": "2022-05-06T17:04:24.135Z"
   },
   {
    "duration": 18,
    "start_time": "2022-05-06T17:04:24.163Z"
   },
   {
    "duration": 52,
    "start_time": "2022-05-06T17:04:24.182Z"
   },
   {
    "duration": 19,
    "start_time": "2022-05-06T17:04:24.238Z"
   },
   {
    "duration": 24,
    "start_time": "2022-05-06T17:04:24.258Z"
   },
   {
    "duration": 42,
    "start_time": "2022-05-06T17:04:24.284Z"
   },
   {
    "duration": 15,
    "start_time": "2022-05-06T17:04:24.331Z"
   },
   {
    "duration": 20,
    "start_time": "2022-05-06T17:04:24.347Z"
   },
   {
    "duration": 45,
    "start_time": "2022-05-06T17:04:24.370Z"
   }
  ],
  "colab": {
   "collapsed_sections": [
    "E0vqbgi9ay0H",
    "VUC88oWjTJw2"
   ],
   "name": "yandex_music_project.ipynb",
   "provenance": []
  },
  "kernelspec": {
   "display_name": "Python 3 (ipykernel)",
   "language": "python",
   "name": "python3"
  },
  "language_info": {
   "codemirror_mode": {
    "name": "ipython",
    "version": 3
   },
   "file_extension": ".py",
   "mimetype": "text/x-python",
   "name": "python",
   "nbconvert_exporter": "python",
   "pygments_lexer": "ipython3",
   "version": "3.9.12"
  },
  "toc": {
   "base_numbering": 1,
   "nav_menu": {},
   "number_sections": true,
   "sideBar": true,
   "skip_h1_title": true,
   "title_cell": "Table of Contents",
   "title_sidebar": "Contents",
   "toc_cell": false,
   "toc_position": {},
   "toc_section_display": true,
   "toc_window_display": true
  }
 },
 "nbformat": 4,
 "nbformat_minor": 1
}
